{
 "cells": [
  {
   "cell_type": "code",
   "execution_count": 1,
   "metadata": {},
   "outputs": [
    {
     "data": {
      "text/plain": [
       "'\\x00'"
      ]
     },
     "execution_count": 1,
     "metadata": {},
     "output_type": "execute_result"
    }
   ],
   "source": [
    "chr(0)"
   ]
  },
  {
   "cell_type": "code",
   "execution_count": 2,
   "metadata": {},
   "outputs": [
    {
     "name": "stdout",
     "output_type": "stream",
     "text": [
      "\u0000\n"
     ]
    }
   ],
   "source": [
    "print(chr(0))"
   ]
  },
  {
   "cell_type": "code",
   "execution_count": 3,
   "metadata": {},
   "outputs": [
    {
     "data": {
      "text/plain": [
       "'this is a test\\x00string'"
      ]
     },
     "execution_count": 3,
     "metadata": {},
     "output_type": "execute_result"
    }
   ],
   "source": [
    "\"this is a test\" + chr(0) + \"string\""
   ]
  },
  {
   "cell_type": "code",
   "execution_count": 4,
   "metadata": {},
   "outputs": [
    {
     "name": "stdout",
     "output_type": "stream",
     "text": [
      "this is a test\u0000string\n"
     ]
    }
   ],
   "source": [
    "print(\"this is a test\" + chr(0) + \"string\")"
   ]
  },
  {
   "cell_type": "code",
   "execution_count": 5,
   "metadata": {},
   "outputs": [],
   "source": [
    "test_string = \"hello! こんにちは!\""
   ]
  },
  {
   "cell_type": "code",
   "execution_count": 6,
   "metadata": {},
   "outputs": [],
   "source": [
    "utf8_encoded = test_string.encode(\"utf-8\")"
   ]
  },
  {
   "cell_type": "code",
   "execution_count": 7,
   "metadata": {},
   "outputs": [
    {
     "name": "stdout",
     "output_type": "stream",
     "text": [
      "b'hello! \\xe3\\x81\\x93\\xe3\\x82\\x93\\xe3\\x81\\xab\\xe3\\x81\\xa1\\xe3\\x81\\xaf!'\n"
     ]
    }
   ],
   "source": [
    "print(utf8_encoded)"
   ]
  },
  {
   "cell_type": "code",
   "execution_count": 8,
   "metadata": {},
   "outputs": [
    {
     "name": "stdout",
     "output_type": "stream",
     "text": [
      "<class 'bytes'>\n"
     ]
    }
   ],
   "source": [
    "print(type(utf8_encoded))"
   ]
  },
  {
   "cell_type": "code",
   "execution_count": 9,
   "metadata": {},
   "outputs": [
    {
     "data": {
      "text/plain": [
       "[104,\n",
       " 101,\n",
       " 108,\n",
       " 108,\n",
       " 111,\n",
       " 33,\n",
       " 32,\n",
       " 227,\n",
       " 129,\n",
       " 147,\n",
       " 227,\n",
       " 130,\n",
       " 147,\n",
       " 227,\n",
       " 129,\n",
       " 171,\n",
       " 227,\n",
       " 129,\n",
       " 161,\n",
       " 227,\n",
       " 129,\n",
       " 175,\n",
       " 33]"
      ]
     },
     "execution_count": 9,
     "metadata": {},
     "output_type": "execute_result"
    }
   ],
   "source": [
    "list(utf8_encoded)"
   ]
  },
  {
   "cell_type": "code",
   "execution_count": 10,
   "metadata": {},
   "outputs": [
    {
     "name": "stdout",
     "output_type": "stream",
     "text": [
      "13\n"
     ]
    }
   ],
   "source": [
    "print(len(test_string))"
   ]
  },
  {
   "cell_type": "code",
   "execution_count": 11,
   "metadata": {},
   "outputs": [
    {
     "name": "stdout",
     "output_type": "stream",
     "text": [
      "23\n"
     ]
    }
   ],
   "source": [
    "print(len(utf8_encoded))"
   ]
  },
  {
   "cell_type": "code",
   "execution_count": 12,
   "metadata": {},
   "outputs": [
    {
     "name": "stdout",
     "output_type": "stream",
     "text": [
      "hello! こんにちは!\n"
     ]
    }
   ],
   "source": [
    "print(utf8_encoded.decode(\"utf-8\"))"
   ]
  },
  {
   "cell_type": "code",
   "execution_count": 13,
   "metadata": {},
   "outputs": [],
   "source": [
    "utf16_encoded = test_string.encode(\"utf-16\")"
   ]
  },
  {
   "cell_type": "code",
   "execution_count": 14,
   "metadata": {},
   "outputs": [
    {
     "name": "stdout",
     "output_type": "stream",
     "text": [
      "b'\\xff\\xfeh\\x00e\\x00l\\x00l\\x00o\\x00!\\x00 \\x00S0\\x930k0a0o0!\\x00'\n"
     ]
    }
   ],
   "source": [
    "print(utf16_encoded)"
   ]
  },
  {
   "cell_type": "code",
   "execution_count": 15,
   "metadata": {},
   "outputs": [
    {
     "data": {
      "text/plain": [
       "[255,\n",
       " 254,\n",
       " 104,\n",
       " 0,\n",
       " 101,\n",
       " 0,\n",
       " 108,\n",
       " 0,\n",
       " 108,\n",
       " 0,\n",
       " 111,\n",
       " 0,\n",
       " 33,\n",
       " 0,\n",
       " 32,\n",
       " 0,\n",
       " 83,\n",
       " 48,\n",
       " 147,\n",
       " 48,\n",
       " 107,\n",
       " 48,\n",
       " 97,\n",
       " 48,\n",
       " 111,\n",
       " 48,\n",
       " 33,\n",
       " 0]"
      ]
     },
     "execution_count": 15,
     "metadata": {},
     "output_type": "execute_result"
    }
   ],
   "source": [
    "list(utf16_encoded)"
   ]
  },
  {
   "cell_type": "code",
   "execution_count": 16,
   "metadata": {},
   "outputs": [
    {
     "data": {
      "text/plain": [
       "28"
      ]
     },
     "execution_count": 16,
     "metadata": {},
     "output_type": "execute_result"
    }
   ],
   "source": [
    "len(utf16_encoded)"
   ]
  },
  {
   "cell_type": "code",
   "execution_count": 17,
   "metadata": {},
   "outputs": [],
   "source": [
    "utf32_encoded = test_string.encode(\"utf-32\")"
   ]
  },
  {
   "cell_type": "code",
   "execution_count": 18,
   "metadata": {},
   "outputs": [
    {
     "name": "stdout",
     "output_type": "stream",
     "text": [
      "b'\\xff\\xfe\\x00\\x00h\\x00\\x00\\x00e\\x00\\x00\\x00l\\x00\\x00\\x00l\\x00\\x00\\x00o\\x00\\x00\\x00!\\x00\\x00\\x00 \\x00\\x00\\x00S0\\x00\\x00\\x930\\x00\\x00k0\\x00\\x00a0\\x00\\x00o0\\x00\\x00!\\x00\\x00\\x00'\n"
     ]
    }
   ],
   "source": [
    "print(utf32_encoded)"
   ]
  },
  {
   "cell_type": "code",
   "execution_count": 19,
   "metadata": {},
   "outputs": [
    {
     "data": {
      "text/plain": [
       "[255,\n",
       " 254,\n",
       " 0,\n",
       " 0,\n",
       " 104,\n",
       " 0,\n",
       " 0,\n",
       " 0,\n",
       " 101,\n",
       " 0,\n",
       " 0,\n",
       " 0,\n",
       " 108,\n",
       " 0,\n",
       " 0,\n",
       " 0,\n",
       " 108,\n",
       " 0,\n",
       " 0,\n",
       " 0,\n",
       " 111,\n",
       " 0,\n",
       " 0,\n",
       " 0,\n",
       " 33,\n",
       " 0,\n",
       " 0,\n",
       " 0,\n",
       " 32,\n",
       " 0,\n",
       " 0,\n",
       " 0,\n",
       " 83,\n",
       " 48,\n",
       " 0,\n",
       " 0,\n",
       " 147,\n",
       " 48,\n",
       " 0,\n",
       " 0,\n",
       " 107,\n",
       " 48,\n",
       " 0,\n",
       " 0,\n",
       " 97,\n",
       " 48,\n",
       " 0,\n",
       " 0,\n",
       " 111,\n",
       " 48,\n",
       " 0,\n",
       " 0,\n",
       " 33,\n",
       " 0,\n",
       " 0,\n",
       " 0]"
      ]
     },
     "execution_count": 19,
     "metadata": {},
     "output_type": "execute_result"
    }
   ],
   "source": [
    "list(utf32_encoded)"
   ]
  },
  {
   "cell_type": "code",
   "execution_count": 20,
   "metadata": {},
   "outputs": [
    {
     "name": "stdout",
     "output_type": "stream",
     "text": [
      "56\n"
     ]
    }
   ],
   "source": [
    "print(len(utf32_encoded))"
   ]
  },
  {
   "cell_type": "code",
   "execution_count": 21,
   "metadata": {},
   "outputs": [],
   "source": [
    "def decode_utf8_bytes_to_str_wrong(bytestring: bytes):\n",
    "    return \"\".join([bytes([b]).decode(\"utf-8\") for b in bytestring])"
   ]
  },
  {
   "cell_type": "code",
   "execution_count": 22,
   "metadata": {},
   "outputs": [
    {
     "data": {
      "text/plain": [
       "'hello,'"
      ]
     },
     "execution_count": 22,
     "metadata": {},
     "output_type": "execute_result"
    }
   ],
   "source": [
    "decode_utf8_bytes_to_str_wrong(\"hello,\".encode(\"utf-8\"))"
   ]
  },
  {
   "cell_type": "code",
   "execution_count": 23,
   "metadata": {},
   "outputs": [
    {
     "name": "stdout",
     "output_type": "stream",
     "text": [
      "h\n",
      "e\n",
      "l\n",
      "l\n",
      "o\n",
      "!\n",
      " \n"
     ]
    },
    {
     "ename": "UnicodeDecodeError",
     "evalue": "'utf-8' codec can't decode byte 0xe3 in position 0: unexpected end of data",
     "output_type": "error",
     "traceback": [
      "\u001b[31m---------------------------------------------------------------------------\u001b[39m",
      "\u001b[31mUnicodeDecodeError\u001b[39m                        Traceback (most recent call last)",
      "\u001b[36mCell\u001b[39m\u001b[36m \u001b[39m\u001b[32mIn[23]\u001b[39m\u001b[32m, line 2\u001b[39m\n\u001b[32m      1\u001b[39m \u001b[38;5;28;01mfor\u001b[39;00m b \u001b[38;5;129;01min\u001b[39;00m utf8_encoded:\n\u001b[32m----> \u001b[39m\u001b[32m2\u001b[39m     \u001b[38;5;28mprint\u001b[39m(\u001b[38;5;28;43mbytes\u001b[39;49m\u001b[43m(\u001b[49m\u001b[43m[\u001b[49m\u001b[43mb\u001b[49m\u001b[43m]\u001b[49m\u001b[43m)\u001b[49m\u001b[43m.\u001b[49m\u001b[43mdecode\u001b[49m\u001b[43m(\u001b[49m\u001b[33;43m\"\u001b[39;49m\u001b[33;43mutf-8\u001b[39;49m\u001b[33;43m\"\u001b[39;49m\u001b[43m)\u001b[49m)\n",
      "\u001b[31mUnicodeDecodeError\u001b[39m: 'utf-8' codec can't decode byte 0xe3 in position 0: unexpected end of data"
     ]
    }
   ],
   "source": [
    "for b in utf8_encoded:\n",
    "    print(bytes([b]).decode(\"utf-8\"))"
   ]
  },
  {
   "cell_type": "code",
   "execution_count": 24,
   "metadata": {},
   "outputs": [],
   "source": [
    "example_utf8 = b'\\xe4\\xba'"
   ]
  },
  {
   "cell_type": "code",
   "execution_count": 25,
   "metadata": {},
   "outputs": [
    {
     "ename": "UnicodeDecodeError",
     "evalue": "'utf-8' codec can't decode bytes in position 0-1: unexpected end of data",
     "output_type": "error",
     "traceback": [
      "\u001b[31m---------------------------------------------------------------------------\u001b[39m",
      "\u001b[31mUnicodeDecodeError\u001b[39m                        Traceback (most recent call last)",
      "\u001b[36mCell\u001b[39m\u001b[36m \u001b[39m\u001b[32mIn[25]\u001b[39m\u001b[32m, line 1\u001b[39m\n\u001b[32m----> \u001b[39m\u001b[32m1\u001b[39m \u001b[38;5;28mprint\u001b[39m(\u001b[43mexample_utf8\u001b[49m\u001b[43m.\u001b[49m\u001b[43mdecode\u001b[49m\u001b[43m(\u001b[49m\u001b[33;43m\"\u001b[39;49m\u001b[33;43mutf-8\u001b[39;49m\u001b[33;43m\"\u001b[39;49m\u001b[43m)\u001b[49m)\n",
      "\u001b[31mUnicodeDecodeError\u001b[39m: 'utf-8' codec can't decode bytes in position 0-1: unexpected end of data"
     ]
    }
   ],
   "source": [
    "print(example_utf8.decode(\"utf-8\"))"
   ]
  },
  {
   "cell_type": "code",
   "execution_count": 26,
   "metadata": {},
   "outputs": [],
   "source": [
    "string = \"the\".encode(\"utf-8\")"
   ]
  },
  {
   "cell_type": "code",
   "execution_count": 27,
   "metadata": {},
   "outputs": [
    {
     "name": "stdout",
     "output_type": "stream",
     "text": [
      "b'the'\n"
     ]
    }
   ],
   "source": [
    "print(string)"
   ]
  },
  {
   "cell_type": "code",
   "execution_count": 28,
   "metadata": {},
   "outputs": [
    {
     "data": {
      "text/plain": [
       "3"
      ]
     },
     "execution_count": 28,
     "metadata": {},
     "output_type": "execute_result"
    }
   ],
   "source": [
    "len(string)"
   ]
  },
  {
   "cell_type": "code",
   "execution_count": 29,
   "metadata": {},
   "outputs": [
    {
     "name": "stdout",
     "output_type": "stream",
     "text": [
      "b't'\n",
      "b'h'\n",
      "b'e'\n"
     ]
    }
   ],
   "source": [
    "for b in string:\n",
    "    print(bytes([b]))"
   ]
  },
  {
   "cell_type": "code",
   "execution_count": 30,
   "metadata": {},
   "outputs": [
    {
     "data": {
      "text/plain": [
       "'hello! こんにちは!'"
      ]
     },
     "execution_count": 30,
     "metadata": {},
     "output_type": "execute_result"
    }
   ],
   "source": [
    "test_string"
   ]
  },
  {
   "cell_type": "code",
   "execution_count": 31,
   "metadata": {},
   "outputs": [],
   "source": [
    "pre_token = ()"
   ]
  },
  {
   "cell_type": "code",
   "execution_count": 32,
   "metadata": {},
   "outputs": [
    {
     "data": {
      "text/plain": [
       "tuple"
      ]
     },
     "execution_count": 32,
     "metadata": {},
     "output_type": "execute_result"
    }
   ],
   "source": [
    "type(pre_token)"
   ]
  },
  {
   "cell_type": "code",
   "execution_count": 33,
   "metadata": {},
   "outputs": [],
   "source": [
    "for char in test_string:\n",
    "    pre_token = pre_token + (char.encode(\"utf-8\"), )"
   ]
  },
  {
   "cell_type": "code",
   "execution_count": 34,
   "metadata": {},
   "outputs": [
    {
     "data": {
      "text/plain": [
       "(b'h',\n",
       " b'e',\n",
       " b'l',\n",
       " b'l',\n",
       " b'o',\n",
       " b'!',\n",
       " b' ',\n",
       " b'\\xe3\\x81\\x93',\n",
       " b'\\xe3\\x82\\x93',\n",
       " b'\\xe3\\x81\\xab',\n",
       " b'\\xe3\\x81\\xa1',\n",
       " b'\\xe3\\x81\\xaf',\n",
       " b'!')"
      ]
     },
     "execution_count": 34,
     "metadata": {},
     "output_type": "execute_result"
    }
   ],
   "source": [
    "pre_token"
   ]
  },
  {
   "cell_type": "code",
   "execution_count": 35,
   "metadata": {},
   "outputs": [
    {
     "data": {
      "text/plain": [
       "b'he'"
      ]
     },
     "execution_count": 35,
     "metadata": {},
     "output_type": "execute_result"
    }
   ],
   "source": [
    "pre_token[0] + pre_token[1]"
   ]
  },
  {
   "cell_type": "code",
   "execution_count": 36,
   "metadata": {},
   "outputs": [
    {
     "name": "stdout",
     "output_type": "stream",
     "text": [
      "a\n"
     ]
    }
   ],
   "source": [
    "a = {\n",
    "    \"a\": 1,\n",
    "    \"b\": 2,\n",
    "    \"c\": 3,\n",
    "}\n",
    "print(next(iter(a)))"
   ]
  },
  {
   "cell_type": "code",
   "execution_count": 37,
   "metadata": {},
   "outputs": [
    {
     "data": {
      "text/plain": [
       "(b's', b't')"
      ]
     },
     "execution_count": 37,
     "metadata": {},
     "output_type": "execute_result"
    }
   ],
   "source": [
    "max([(b\"e\", b\"s\"), (b\"s\", b\"t\")])"
   ]
  },
  {
   "cell_type": "code",
   "execution_count": 38,
   "metadata": {},
   "outputs": [
    {
     "name": "stdout",
     "output_type": "stream",
     "text": [
      "{(b'g', b'h'): 5, (b'c', b'd'): 5, (b'e', b'f'): 3, (b'a', b'b'): 3, (b'i', b'j'): 2}\n"
     ]
    }
   ],
   "source": [
    "# 原始字典\n",
    "data = {\n",
    "    (b'a', b'b'): 3,\n",
    "    (b'c', b'd'): 5,\n",
    "    (b'e', b'f'): 3,\n",
    "    (b'g', b'h'): 5,\n",
    "    (b'i', b'j'): 2\n",
    "}\n",
    "\n",
    "# 按值降序排序，如果值相同，按照元组的字典序降序排序\n",
    "sorted_data = sorted(data.items(), key=lambda item:  (item[1], item[0]),\n",
    "                     reverse=True)\n",
    "\n",
    "# 转换为字典（如果需要）\n",
    "sorted_dict = dict(sorted_data)\n",
    "\n",
    "print(sorted_dict)"
   ]
  },
  {
   "cell_type": "code",
   "execution_count": 39,
   "metadata": {},
   "outputs": [
    {
     "data": {
      "text/plain": [
       "(b'g', b'h')"
      ]
     },
     "execution_count": 39,
     "metadata": {},
     "output_type": "execute_result"
    }
   ],
   "source": [
    "max([(b'c', b'd'), (b'g', b'h')])"
   ]
  },
  {
   "cell_type": "code",
   "execution_count": 58,
   "metadata": {},
   "outputs": [
    {
     "data": {
      "text/plain": [
       "b'!'"
      ]
     },
     "execution_count": 58,
     "metadata": {},
     "output_type": "execute_result"
    }
   ],
   "source": [
    "bytes([33])"
   ]
  },
  {
   "cell_type": "code",
   "execution_count": 72,
   "metadata": {},
   "outputs": [],
   "source": [
    "import regex as re"
   ]
  },
  {
   "cell_type": "code",
   "execution_count": 153,
   "metadata": {},
   "outputs": [],
   "source": [
    "test_str = \"u don't have to be scared of the loud dog, I'll abcprotect you. The mole <|endoftext|>\" \\\n",
    "\"felt abcso safe with <|endoftext|>\" \\\n",
    "\"fsdfsdfsdfdsfsdfsdf\""
   ]
  },
  {
   "cell_type": "code",
   "execution_count": 154,
   "metadata": {},
   "outputs": [],
   "source": [
    "special_tokens=[\"<|endoftext|>\"]"
   ]
  },
  {
   "cell_type": "code",
   "execution_count": 155,
   "metadata": {},
   "outputs": [],
   "source": [
    "delimiter = \"|\".join(map(re.escape, special_tokens))"
   ]
  },
  {
   "cell_type": "code",
   "execution_count": 156,
   "metadata": {},
   "outputs": [
    {
     "name": "stdout",
     "output_type": "stream",
     "text": [
      "<\\|endoftext\\|>\n"
     ]
    }
   ],
   "source": [
    "print(delimiter)"
   ]
  },
  {
   "cell_type": "code",
   "execution_count": 157,
   "metadata": {},
   "outputs": [
    {
     "name": "stdout",
     "output_type": "stream",
     "text": [
      "b'<\\\\|endoftext\\\\|>'\n"
     ]
    }
   ],
   "source": [
    "print(delimiter.encode(\"utf-8\"))"
   ]
  },
  {
   "cell_type": "code",
   "execution_count": 158,
   "metadata": {},
   "outputs": [],
   "source": [
    "encode_special = delimiter.encode(\"utf-8\")"
   ]
  },
  {
   "cell_type": "code",
   "execution_count": null,
   "metadata": {},
   "outputs": [
    {
     "name": "stdout",
     "output_type": "stream",
     "text": [
      "b'<'\n",
      "b'\\\\'\n",
      "b'|'\n",
      "b'e'\n",
      "b'n'\n",
      "b'd'\n",
      "b'o'\n",
      "b'f'\n",
      "b't'\n",
      "b'e'\n",
      "b'x'\n",
      "b't'\n",
      "b'\\\\'\n",
      "b'|'\n",
      "b'>'\n"
     ]
    }
   ],
   "source": []
  },
  {
   "cell_type": "code",
   "execution_count": 84,
   "metadata": {},
   "outputs": [],
   "source": [
    "docs = re.split(delimiter, test_str)"
   ]
  },
  {
   "cell_type": "code",
   "execution_count": 85,
   "metadata": {},
   "outputs": [
    {
     "data": {
      "text/plain": [
       "[\"u don't have to be scared of the loud dog, I'll abcprotect you. The mole \",\n",
       " 'felt abcso safe with ',\n",
       " 'fsdfsdfsdfdsfsdfsdf']"
      ]
     },
     "execution_count": 85,
     "metadata": {},
     "output_type": "execute_result"
    }
   ],
   "source": [
    "docs"
   ]
  },
  {
   "cell_type": "code",
   "execution_count": 86,
   "metadata": {},
   "outputs": [],
   "source": [
    "with open(\"/home/jingqi/CS336_Assignments/assignment1-basics/tests/fixtures/tinystories_sample_5M.txt\") as f:\n",
    "    text = f.read()"
   ]
  },
  {
   "cell_type": "code",
   "execution_count": 87,
   "metadata": {},
   "outputs": [],
   "source": [
    "docs = re.split(delimiter, text)"
   ]
  },
  {
   "cell_type": "code",
   "execution_count": 122,
   "metadata": {},
   "outputs": [
    {
     "name": "stdout",
     "output_type": "stream",
     "text": [
      "{'vocab_keys': {0, 1, 2, 3, 4, 5, 6, 7, 8, 9, 10, 11, 12, 13, 14, 15, 16, 17, 18, 19, 20, 21, 22, 23, 24, 25, 26, 27, 28, 29, 30, 31, 32, 33, 34, 35, 36, 37, 38, 39, 40, 41, 42, 43, 44, 45, 46, 47, 48, 49, 50, 51, 52, 53, 54, 55, 56, 57, 58, 59, 60, 61, 62, 63, 64, 65, 66, 67, 68, 69, 70, 71, 72, 73, 74, 75, 76, 77, 78, 79, 80, 81, 82, 83, 84, 85, 86, 87, 88, 89, 90, 91, 92, 93, 94, 95, 96, 97, 98, 99, 100, 101, 102, 103, 104, 105, 106, 107, 108, 109, 110, 111, 112, 113, 114, 115, 116, 117, 118, 119, 120, 121, 122, 123, 124, 125, 126, 127, 128, 129, 130, 131, 132, 133, 134, 135, 136, 137, 138, 139, 140, 141, 142, 143, 144, 145, 146, 147, 148, 149, 150, 151, 152, 153, 154, 155, 156, 157, 158, 159, 160, 161, 162, 163, 164, 165, 166, 167, 168, 169, 170, 171, 172, 173, 174, 175, 176, 177, 178, 179, 180, 181, 182, 183, 184, 185, 186, 187, 188, 189, 190, 191, 192, 193, 194, 195, 196, 197, 198, 199, 200, 201, 202, 203, 204, 205, 206, 207, 208, 209, 210, 211, 212, 213, 214, 215, 216, 217, 218, 219, 220, 221, 222, 223, 224, 225, 226, 227, 228, 229, 230, 231, 232, 233, 234, 235, 236, 237, 238, 239, 240, 241, 242, 243, 244, 245, 246, 247, 248, 249, 250, 251, 252, 253, 254, 255, 256, 257, 258, 259, 260, 261, 262, 263, 264, 265, 266, 267, 268, 269, 270, 271, 272, 273, 274, 275, 276, 277, 278, 279, 280, 281, 282, 283, 284, 285, 286, 287, 288, 289, 290, 291, 292, 293, 294, 295, 296, 297, 298, 299, 300, 301, 302, 303, 304, 305, 306, 307, 308, 309, 310, 311, 312, 313, 314, 315, 316, 317, 318, 319, 320, 321, 322, 323, 324, 325, 326, 327, 328, 329, 330, 331, 332, 333, 334, 335, 336, 337, 338, 339, 340, 341, 342, 343, 344, 345, 346, 347, 348, 349, 350, 351, 352, 353, 354, 355, 356, 357, 358, 359, 360, 361, 362, 363, 364, 365, 366, 367, 368, 369, 370, 371, 372, 373, 374, 375, 376, 377, 378, 379, 380, 381, 382, 383, 384, 385, 386, 387, 388, 389, 390, 391, 392, 393, 394, 395, 396, 397, 398, 399, 400, 401, 402, 403, 404, 405, 406, 407, 408, 409, 410, 411, 412, 413, 414, 415, 416, 417, 418, 419, 420, 421, 422, 423, 424, 425, 426, 427, 428, 429, 430, 431, 432, 433, 434, 435, 436, 437, 438, 439, 440, 441, 442, 443, 444, 445, 446, 447, 448, 449, 450, 451, 452, 453, 454, 455, 456, 457, 458, 459, 460, 461, 462, 463, 464, 465, 466, 467, 468, 469, 470, 471, 472, 473, 474, 475, 476, 477, 478, 479, 480, 481, 482, 483, 484, 485, 486, 487, 488, 489, 490, 491, 492, 493, 494, 495, 496, 497, 498, 499, 500, 501, 502, 503, 504, 505, 506, 507, 508, 509, 510, 511, 512, 513, 514, 515, 516, 517, 518, 519, 520, 521, 522, 523, 524, 525, 526, 527, 528, 529, 530, 531, 532, 533, 534, 535, 536, 537, 538, 539, 540, 541, 542, 543, 544, 545, 546, 547, 548, 549, 550, 551, 552, 553, 554, 555, 556, 557, 558, 559, 560, 561, 562, 563, 564, 565, 566, 567, 568, 569, 570, 571, 572, 573, 574, 575, 576, 577, 578, 579, 580, 581, 582, 583, 584, 585, 586, 587, 588, 589, 590, 591, 592, 593, 594, 595, 596, 597, 598, 599, 600, 601, 602, 603, 604, 605, 606, 607, 608, 609, 610, 611, 612, 613, 614, 615, 616, 617, 618, 619, 620, 621, 622, 623, 624, 625, 626, 627, 628, 629, 630, 631, 632, 633, 634, 635, 636, 637, 638, 639, 640, 641, 642, 643, 644, 645, 646, 647, 648, 649, 650, 651, 652, 653, 654, 655, 656, 657, 658, 659, 660, 661, 662, 663, 664, 665, 666, 667, 668, 669, 670, 671, 672, 673, 674, 675, 676, 677, 678, 679, 680, 681, 682, 683, 684, 685, 686, 687, 688, 689, 690, 691, 692, 693, 694, 695, 696, 697, 698, 699, 700, 701, 702, 703, 704, 705, 706, 707, 708, 709, 710, 711, 712, 713, 714, 715, 716, 717, 718, 719, 720, 721, 722, 723, 724, 725, 726, 727, 728, 729, 730, 731, 732, 733, 734, 735, 736, 737, 738, 739, 740, 741, 742, 743, 744, 745, 746, 747, 748, 749, 750, 751, 752, 753, 754, 755, 756, 757, 758, 759, 760, 761, 762, 763, 764, 765, 766, 767, 768, 769, 770, 771, 772, 773, 774, 775, 776, 777, 778, 779, 780, 781, 782, 783, 784, 785, 786, 787, 788, 789, 790, 791, 792, 793, 794, 795, 796, 797, 798, 799, 800, 801, 802, 803, 804, 805, 806, 807, 808, 809, 810, 811, 812, 813, 814, 815, 816, 817, 818, 819, 820, 821, 822, 823, 824, 825, 826, 827, 828, 829, 830, 831, 832, 833, 834, 835, 836, 837, 838, 839, 840, 841, 842, 843, 844, 845, 846, 847, 848, 849, 850, 851, 852, 853, 854, 855, 856, 857, 858, 859, 860, 861, 862, 863, 864, 865, 866, 867, 868, 869, 870, 871, 872, 873, 874, 875, 876, 877, 878, 879, 880, 881, 882, 883, 884, 885, 886, 887, 888, 889, 890, 891, 892, 893, 894, 895, 896, 897, 898, 899, 900, 901, 902, 903, 904, 905, 906, 907, 908, 909, 910, 911, 912, 913, 914, 915, 916, 917, 918, 919, 920, 921, 922, 923, 924, 925, 926, 927, 928, 929, 930, 931, 932, 933, 934, 935, 936, 937, 938, 939, 940, 941, 942, 943, 944, 945, 946, 947, 948, 949, 950, 951, 952, 953, 954, 955, 956, 957, 958, 959, 960, 961, 962, 963, 964, 965, 966, 967, 968, 969, 970, 971, 972, 973, 974, 975, 976, 977, 978, 979, 980, 981, 982, 983, 984, 985, 986, 987, 988, 989, 990, 991, 992, 993, 994, 995, 996, 997, 998, 999}, 'vocab_values': {b' y', b'am', b'ue', b'able', b'\\xfb', b' much', b' hel', b':', b'ty', b' fast', b'@', b' away', b' star', b' ', b'\\x81', b' fun', b'ake', b'itty', b'oo', b'ia', b' blue', b' sky', b'Thank', b'ked', b' look', b' animal', b' anymore', b' thought', b'\\x95', b'Once', b' went', b'\\xd0', b' want', b'iled', b')', b' cake', b'\\xc3', b' Lucy', b' stor', b' very', b'\\x8c', b'ant', b' people', b' tried', b' D', b' him', b'\\x17', b'ank', b'ven', b' tree', b'ith', b'rm', b'ird', b' careful', b'\\xae', b'X', b' as', b' feel', b' need', b'ure', b'9', b'ving', b'E', b'ic', b'ara', b'D', b' un', b' even', b'f', b' Her', b' mom', b'=', b'pec', b'But', b' sh', b'\\xbe', b' man', b' In', b'om', b'ax', b'ide', b' fe', b' over', b'F', b'nder', b'ave', b'B', b' from', b' stick', b' fo', b'dd', b'ted', b' home', b' never', b'N', b' if', b' do', b\"'t\", b'ach', b' gre', b'expected', b' j', b'ared', b'\\xfd', b' so', b'other', b'I', b'\\xb2', b' come', b'\\x85', b' says', b'se', b'us', b' many', b' She', b'uff', b'ecial', b'One', b'\\x08', b'ir', b' and', b' water', b' pe', b'\\xc5', b'ld', b' all', b' down', b'!', b' hat', b' picked', b' clo', b' make', b'ried', b' next', b' didn', b' back', b'are', b' H', b' will', b'\\x9c', b'H', b'ame', b'ful', b' hand', b'\\xe2', b'\\xa5', b' A', b'Can', b' bug', b' like', b'\\xdd', b' how', b'S', b'ff', b'gry', b' col', b' told', b' girl', b' when', b' because', b'\\x89', b' wor', b' then', b'3', b' sl', b' Lily', b' bo', b'out', b' learn', b'ur', b'\\xd6', b' came', b'C', b'pp', b' looked', b'pot', b' im', b'ry', b'q', b' run', b'\\xde', b'one', b' cu', b'un', b' w', b' E', b'ool', b' bu', b'\\x13', b'hen', b'\\r', b'\\x0b', b'oy', b' M', b'ap', b'pped', b' small', b' squ', b' but', b'ise', b' inside', b'bed', b' pretty', b' sad', b' safe', b' flew', b'ie', b'op', b' what', b'\\x86', b'udd', b' jumped', b'_', b'ra', b' fr', b'ight', b'ny', b' l', b's', b' saw', b' with', b' op', b' hurt', b'\\x04', b'ive', b' wind', b'Let', b' p', b'\\xc2', b'ad', b' dec', b'ind', b' found', b'\\x92', b'\\xca', b' high', b'etter', b' gra', b'\\x91', b' gave', b'ild', b' One', b'en', b'eci', b'ome', b'ag', b'and', b' an', b'\\xc0', b'my', b' box', b' happ', b'*', b'<|endoftext|>', b'omet', b'a', b' le', b' fish', b'\\xa4', b' kid', b'\\xf5', b'V', b' sm', b'riend', b' surprised', b'e', b'ill', b'ink', b'P', b' way', b'+', b' clean', b' other', b' tal', b' ro', b' shiny', b'\\x1b', b' o', b'arn', b'\\\\', b'age', b' share', b' named', b' helped', b' until', b' lots', b' big', b'{', b'.', b' love', b' showed', b' was', b'uddenly', b'\\xf4', b'`', b'\\x8e', b'ucy', b'ump', b'(', b' dad', b' boat', b'\\x99', b'as', b'\\xb0', b' ho', b' walked', b'\\xc8', b' His', b't', b'\\xeb', b' go', b'\\xcd', b' He', b' room', b' wat', b' So', b' ag', b' took', b'ort', b'5', b' dog', b'\\xe8', b' hugged', b'\\xe2\\x80', b' d', b' bl', b' m', b'p', b' smile', b'ved', b'\\xab', b\"'\", b're', b' laug', b'at', b'O', b' long', b'x', b'R', b' hard', b'u', b'7', b' be', b'On', b'\\x7f', b'\\x82', b' around', b'\\xb3', b'[', b' smiled', b' for', b'ous', b'iny', b' J', b' ha', b' decided', b' g', b' made', b' sur', b' idea', b' mo', b'pected', b' wh', b'\\xf9', b'^', b' things', b'\\x1d', b' u', b'nn', b'?', b' felt', b'\\x1f', b' bec', b'here', b' bot', b' say', b' N', b' had', b'K', b'id', b' hig', b'Yes', b' her', b'\\xf0', b' who', b' turn', b' f', b' let', b'\\xda', b' every', b'king', b'\\xd9', b' somet', b'\\x01', b' ran', b'\\x80', b' wa', b'ut', b'ade', b'Z', b'iz', b'nd', b' pr', b'\\x16', b'im', b' n', b' Anna', b' on', b'.\"', b' Kitty', b'ch', b'\\xe3', b'ark', b' ex', b' put', b'\\xb7', b'ged', b'ke', b'\\xaa', b' door', b' great', b'ull', b'dy', b'\\xc7', b'ways', b'\\x19', b'\\x03', b'U', b'orn', b'\\xfa', b' both', b' toy', b' off', b' little', b'\\xff', b'ite', b'\\xdc', b' have', b' te', b' more', b' would', b'\\xf2', b' we', b' doll', b'ore', b'our', b' that', b' Amy', b'\\x12', b' me', b' ever', b'ady', b'is', b'i', b' sor', b'\\xb5', b' happened', b'ched', b'|', b'Mom', b'\\xad', b'\\xf6', b'ex', b' they', b'\\xf8', b' color', b' nam', b'ct', b' Ben', b' th', b'er', b' K', b' still', b'\\x83', b'udden', b'ell', b' laughed', b' But', b'ot', b' bad', b' just', b' cle', b' ke', b' excited', b'um', b' out', b' F', b' opened', b' st', b' family', b'in', b'le', b'r', b'ent', b' se', b' ca', b'You', b'hes', b'lew', b' bird', b']', b' ch', b'ough', b' nice', b' new', b'\\xdf', b'Lily', b'round', b'\\xe7', b'qu', b'on', b' che', b' care', b'\\xa7', b'\\xc1', b' We', b'\\xc9', b' sun', b';', b' time', b'A', b' happy', b' jump', b'\\xa2', b'ally', b' The', b' see', b'by', b' liked', b' listen', b'ul', b'ly', b' unexpected', b' fl', b'ab', b'ould', b'urt', b' fam', b' asked', b' al', b'all', b'ber', b'\\xce', b'\\xe9', b' take', b' could', b' ab', b' forest', b\"'m\", b'M', b' loo', b'her', b' L', b' lo', b'\\xe5', b' or', b' surpr', b' strong', b' tre', b' give', b'ook', b'}', b' one', b' than', b'\\x00', b'more', b'\\x87', b'ine', b' tr', b'uck', b' dre', b'\\x02', b' I', b'hed', b' beaut', b' were', b' sto', b' Mia', b' she', b' ball', b' Sally', b'\\x88', b' always', b'an', b'\\xb1', b'if', b'ay', b' park', b'W', b'No', b' And', b'ick', b'\\x9f', b'\\xec', b'way', b'\\n\\n', b' again', b' into', b'pl', b' co', b' met', b' k', b'use', b' r', b'2', b'ime', b'\\xfe', b'ion', b'nna', b' happily', b'ard', b' pl', b'ob', b'\\x0f', b' S', b' gr', b'\\xa0', b'l', b' special', b'\\x18', b'side', b' us', b' app', b'd', b'ily', b'Q', b'\\x1c', b' magic', b' b', b'\\xd4', b' str', b' lived', b'he', b' of', b'ople', b' P', b'\\n', b' day', b'ss', b' exc', b'ug', b'lf', b'g', b'>', b've', b\"'s\", b'or', b'Tim', b'\\xe0', b'ess', b' Sam', b'ed', b'\\xbb', b' animals', b'ary', b' to', b'ret', b' friend', b'ound', b'end', b'-', b'\\xe1', b'\\x8b', b'\\xd8', b' You', b'ft', b'\\xb6', b'\\xd5', b'?\"', b'8', b'Wh', b' each', b' fore', b'nt', b' am', b'b', b' Then', b' boy', b' good', b'ing', b'pr', b' sn', b',\"', b' heard', b'\\x8a', b'xt', b'\\xf1', b' food', b'$', b' walk', b' play', b'el', b' your', b' show', b' outside', b',', b'\\x0e', b' fi', b'\\x07', b' dan', b' sk', b'\\x15', b' list', b'\\x06', b'ver', b' en', b'Th', b'll', b' there', b'elt', b' clim', b' fa', b' book', b' From', b'\\t', b' Max', b' mag', b'\\xc6', b'\\x94', b'h', b' loud', b'ace', b' sw', b' com', b'it', b' garden', b'\\xed', b'arden', b'ase', b'ce', b' ta', b'\\xac', b'w', b' Bob', b'v', b'\"', b' cl', b'kay', b'%', b'ittle', b'\\x05', b'\\xaf', b'ised', b'1', b' po', b' playing', b' proud', b' Sara', b' They', b'y', b' pic', b' sa', b' better', b' too', b' gir', b'es', b' car', b'As', b'il', b' know', b'al', b'\\x97', b'The', b'/', b' sp', b' s', b'ew', b'\\xba', b'\\xcf', b'\\xb9', b'ip', b'uffy', b' did', b' Tim', b'\\xc4', b'rom', b' far', b' Every', b'\\xf7', b'ice', b'ought', b'ig', b' Sue', b' old', b' T', b' qu', b' get', b'\\xcb', b' Spot', b' la', b'\\xbf', b'\\x90', b' When', b' don', b'6', b' frog', b' pret', b' fly', b' their', b'imal', b' best', b'\\x9e', b'\\x0c', b' is', b' them', b'j', b'Y', b' at', b' end', b' in', b'ings', b' under', b' now', b'c', b' some', b'\\xcc', b' up', b'\\x8f', b'hing', b'\\x9b', b'\\x1e', b' scared', b'\\x9a', b' ground', b' something', b' red', b' together', b'ouse', b'ist', b' W', b' its', b' e', b'\\xd3', b' call', b'ture', b'ak', b' no', b'ate', b'4', b'\\xd1', b'\\xd2', b' became', b' sc', b'\\x96', b'0', b'#', b'<', b'em', b' eat', b' int', b'ened', b'J', b'og', b'ummy', b'\\xa6', b' you', b' bro', b' toys', b'oud', b'ge', b'urn', b'\\x84', b' house', b'\\xf3', b'ong', b' rock', b'ht', b'\\xa9', b' wanted', b'ies', b'&', b' tw', b' bear', b' started', b' it', b'ow', b' the', b'ro', b' can', b' played', b' B', b' wal', b'ile', b' br', b'ou', b' loved', b'ood', b' he', b' tow', b'\\x9d', b' \"', b' v', b'ck', b'ust', b' Mom', b' by', b' not', b'et', b' my', b' ide', b'uc', b'!\"', b'uch', b'\\xbc', b'Tom', b'ain', b' lot', b'les', b'L', b'\\x93', b' ne', b' find', b'\\xa3', b' his', b' Th', b'gether', b' thanked', b' Tom', b' this', b' par', b'\\xbd', b'\\xee', b'\\xef', b'\\xdb', b' are', b'ack', b'itt', b' knew', b' li', b' should', b'\\x10', b' near', b' upon', b' sorry', b'~', b'k', b' hug', b' t', b'ep', b'own', b'm', b'\\x8d', b'\\xe6', b'\\xe4', b'ri', b'\\xa1', b' about', b'\\xd7', b'\\xfc', b'\\xb8', b'very', b'aut', b' town', b'T', b'ited', b' place', b'ish', b'get', b' friends', b'\\xb4', b' said', b' It', b'G', b'fter', b'\\xea', b'ec', b' after', b' help', b' re', b'\\x11', b'\\xa8', b' cat', b' try', b' h', b' ma', b'ter', b'o', b'They', b' kind', b' a', b' flow', b' any', b'ause', b'\\x98', b' gl', b' kn', b'ar', b'ided', b' learned', b'ers', b'\\x14', b'st', b'oug', b' unt', b'n', b' c', b' got', b'fe', b'z', b'\\x1a'}, 'merges': [(b'h', b'e'), (b' ', b't'), (b' ', b'a'), (b' ', b's'), (b' ', b'w'), (b'n', b'd'), (b' t', b'he'), (b'e', b'd'), (b' ', b'b'), (b' t', b'o'), (b' a', b'nd'), (b' ', b'h'), (b' ', b'f'), (b'i', b'n'), (b' w', b'a'), (b' ', b'T'), (b'i', b't'), (b'r', b'e'), (b'o', b'u'), (b' ', b'l'), (b' ', b'd'), (b' ', b'c'), (b' ', b'p'), (b'a', b'y'), (b' wa', b's'), (b'e', b'r'), (b' ', b'm'), (b'o', b'm'), (b' ', b'he'), (b' T', b'he'), (b'i', b's'), (b' ', b'n'), (b'o', b'n'), (b'a', b'r'), (b'i', b'm'), (b' s', b'a'), (b'l', b'l'), (b'i', b'd'), (b' h', b'a'), (b' ', b'g'), (b' ', b'S'), (b'a', b't'), (b'in', b'g'), (b'o', b't'), (b'e', b'n'), (b'a', b'n'), (b'l', b'e'), (b'o', b'r'), (b'i', b'r'), (b' ', b'H'), (b'a', b'm'), (b'e', b't'), (b' ', b'it'), (b' t', b'h'), (b'i', b'g'), (b' The', b'y'), (b'i', b'l'), (b' ', b'in'), (b' H', b'e'), (b' p', b'l'), (b' ', b'\"'), (b'o', b'w'), (b'v', b'er'), (b'r', b'i'), (b' ', b'u'), (b'u', b't'), (b' d', b'ay'), (b' sa', b'id'), (b'it', b'h'), (b'p', b'p'), (b' pl', b'ay'), (b' b', b'e'), (b'O', b'n'), (b' w', b'ith'), (b' ', b'o'), (b' ', b'y'), (b' he', b'r'), (b' ', b'r'), (b'o', b'o'), (b'k', b'ed'), (b'c', b'e'), (b' h', b'is'), (b' S', b'he'), (b' ', b'I'), (b'l', b'd'), (b' s', b't'), (b' T', b'im'), (b'k', b'e'), (b' ', b'e'), (b'n', b't'), (b'c', b'k'), (b' b', b'ig'), (b'ver', b'y'), (b' y', b'ou'), (b'v', b'e'), (b's', b't'), (b' ha', b'pp'), (b' ', b'on'), (b'e', b'nd'), (b'u', b'n'), (b'a', b'll'), (b'il', b'y'), (b'ri', b'end'), (b' f', b'riend'), (b' ', b'L'), (b' u', b'p'), (b' the', b'y'), (b' wa', b'nt'), (b' w', b'e'), (b' ha', b'd'), (b' n', b'ot'), (b'he', b'r'), (b' l', b'i'), (b'it', b't'), (b' d', b'o'), (b' o', b'f'), (b' ', b'B'), (b'a', b'd'), (b'e', b's'), (b' happ', b'y'), (b' ', b'M'), (b'en', b't'), (b' ', b'very'), (b' th', b'at'), (b'On', b'e'), (b' sa', b'w'), (b' m', b'om'), (b'ou', b'ld'), (b\"'\", b's'), (b's', b'e'), (b' f', b'or'), (b'itt', b'le'), (b' l', b'ittle'), (b' s', b'o'), (b' s', b'he'), (b' s', b'h'), (b'im', b'e'), (b' ', b'k'), (b' t', b'ime'), (b' n', b'e'), (b' n', b'am'), (b'c', b'h'), (b' the', b're'), (b'.', b'\"'), (b'ou', b'nd'), (b' b', b'o'), (b' nam', b'ed'), (b' L', b'ily'), (b'ir', b'd'), (b' s', b'm'), (b' want', b'ed'), (b' b', b'ird'), (b' T', b'om'), (b'v', b'ed'), (b' we', b're'), (b' b', b'ut'), (b'T', b'he'), (b' friend', b's'), (b'!', b'\"'), (b'ou', b't'), (b'h', b't'), (b'e', b'l'), (b'a', b'ke'), (b'a', b'l'), (b' a', b'n'), (b' to', b'o'), (b'id', b'e'), (b' he', b'l'), (b'On', b'ce'), (b' w', b'h'), (b' hel', b'p'), (b'u', b'g'), (b'om', b'e'), (b' w', b'ent'), (b' a', b'll'), (b' I', b't'), (b' ', b'A'), (b' l', b'oo'), (b' ', b'is'), (b' up', b'on'), (b' l', b'o'), (b'u', b'e'), (b't', b'er'), (b'r', b'y'), (b'o', b're'), (b'i', b'nd'), (b'g', b'et'), (b' f', b'un'), (b' to', b'y'), (b'i', b'll'), (b'a', b'ck'), (b'get', b'her'), (b' a', b't'), (b' ', b'j'), (b' a', b's'), (b' d', b'id'), (b'am', b'e'), (b' ', b're'), (b' to', b'gether'), (b'u', b'r'), (b' c', b'at'), (b'r', b'a'), (b' do', b'g'), (b' s', b'e'), (b'l', b'y'), (b' t', b're'), (b'oo', b'd'), (b' g', b'ir'), (b' c', b'an'), (b'i', b'c'), (b' b', b'all'), (b'm', b'y'), (b' gir', b'l'), (b' c', b'ould'), (b'ar', b'd'), (b't', b'ed'), (b' h', b'im'), (b' the', b'ir'), (b'e', b'c'), (b'ar', b'k'), (b' r', b'o'), (b'w', b'ay'), (b' k', b'n'), (b' play', b'ed'), (b'?', b'\"'), (b'he', b'd'), (b' f', b'r'), (b'a', b'in'), (b'he', b'n'), (b' l', b'e'), (b' ', b'out'), (b'u', b'm'), (b\"'\", b't'), (b'a', b'x'), (b' g', b'o'), (b' the', b'm'), (b' a', b're'), (b' bo', b'y'), (b' sa', b'd'), (b'u', b'l'), (b'ou', b'g'), (b' ha', b've'), (b' tre', b'e'), (b' c', b'l'), (b' lo', b'ved'), (b'ot', b'her'), (b' b', b'ack'), (b' loo', b'ked'), (b' s', b'p'), (b' f', b'ound'), (b'ow', b'n'), (b'on', b'e'), (b' M', b'ax'), (b' m', b'e'), (b' s', b'c'), (b' m', b'an'), (b'a', b're'), (b' st', b'ar'), (b' S', b'ue'), (b'h', b'ing'), (b's', b'ide'), (b' p', b'ark'), (b'on', b'g'), (b'o', b'p'), (b'f', b'ul'), (b' be', b'c'), (b' li', b'ke'), (b' w', b'ould'), (b' li', b'ked'), (b'el', b't'), (b'r', b'ound'), (b' ', b'One'), (b' f', b'elt'), (b'ig', b'ht'), (b' f', b'a'), (b' B', b'en'), (b' l', b'a'), (b' ', b'W'), (b'e', b'll'), (b' m', b'ake'), (b' B', b'ut'), (b'Y', b'ou'), (b' as', b'ked'), (b' ne', b'w'), (b'i', b'ce'), (b'il', b'ed'), (b's', b's'), (b'ar', b'ed'), (b'a', b'g'), (b' S', b'am'), (b'oug', b'ht'), (b' se', b'e'), (b'om', b'et'), (b' a', b'l'), (b' star', b'ted'), (b' a', b'g'), (b' c', b'ame'), (b' n', b'o'), (b' sm', b'iled'), (b' c', b'ar'), (b' ', b'other'), (b'ri', b'ed'), (b' s', b'omet'), (b' g', b'ood'), (b' s', b'ay'), (b' b', b'r'), (b' sm', b'all'), (b'ad', b'e'), (b'p', b'ot'), (b'o', b'b'), (b'ing', b's'), (b' w', b'or'), (b' a', b'way'), (b'a', b'b'), (b'ou', b'se'), (b' f', b'ind'), (b'u', b's'), (b' e', b'x'), (b' fr', b'om'), (b' p', b'ut'), (b't', b'y'), (b' th', b'ought'), (b' wh', b'at'), (b' m', b'ade'), (b'en', b'ed'), (b' play', b'ing'), (b'i', b'e'), (b' h', b'ome'), (b'k', b'ing'), (b' wa', b'l'), (b'a', b'ch'), (b' somet', b'hing'), (b'i', b'a'), (b'i', b'le'), (b' e', b'very'), (b' r', b'an'), (b' S', b'pot'), (b' ag', b'ain'), (b' ', b'F'), (b' c', b'o'), (b'a', b've'), (b'u', b'c'), (b'ar', b'n'), (b' bo', b'x'), (b' d', b'own'), (b'd', b'd'), (b' toy', b's'), (b'oo', b'k'), (b' ', b'J'), (b' p', b'r'), (b' too', b'k'), (b' s', b'w'), (b' s', b'ome'), (b'i', b'f'), (b' la', b'ug'), (b'ou', b'd'), (b'u', b'st'), (b'e', b'w'), (b' s', b'un'), (b' a', b'round'), (b'n', b'y'), (b' sc', b'ared'), (b' li', b'ved'), (b' le', b'arn'), (b' w', b'ill'), (b' m', b'y'), (b' f', b'l'), (b'u', b're'), (b' you', b'r'), (b'i', b'ck'), (b're', b't'), (b'e', b'p'), (b' h', b'ouse'), (b' w', b'hen'), (b' ', b'You'), (b' th', b'ings'), (b' b', b'l'), (b',', b'\"'), (b'an', b'k'), (b'u', b'ck'), (b' the', b'n'), (b'pp', b'ed'), (b' M', b'ia'), (b'is', b't'), (b'T', b'h'), (b' b', b'ot'), (b' a', b'b'), (b'is', b'h'), (b' wh', b'o'), (b' g', b'et'), (b' kn', b'ow'), (b'uc', b'y'), (b' f', b'e'), (b'a', b's'), (b' t', b'ried'), (b' g', b'ot'), (b' kn', b'ew'), (b'it', b'ed'), (b' l', b'ot'), (b'u', b'ch'), (b' say', b's'), (b'all', b'y'), (b'a', b'p'), (b' in', b't'), (b' c', b'h'), (b'i', b've'), (b' r', b'ed'), (b'T', b'im'), (b'nd', b'er'), (b'um', b'p'), (b'L', b'ily'), (b' p', b'ret'), (b'ou', b's'), (b' ab', b'out'), (b' c', b'are'), (b'f', b'ter'), (b' d', b'ec'), (b' S', b'o'), (b' o', b'p'), (b'f', b'e'), (b' loo', b'k'), (b' ', b'D'), (b' man', b'y'), (b'u', b'se'), (b' u', b'n'), (b' m', b'ore'), (b'is', b'e'), (b'way', b's'), (b' ', b'E'), (b'n', b'n'), (b' ex', b'c'), (b' M', b'om'), (b' al', b'ways'), (b' p', b'ic'), (b' p', b'o'), (b'\\xe2', b'\\x80'), (b' be', b'st'), (b'q', b'u'), (b' an', b'y'), (b' sh', b'ow'), (b' bot', b'h'), (b' L', b'ucy'), (b'it', b'e'), (b' ro', b'om'), (b' h', b'ug'), (b'a', b'ce'), (b'er', b's'), (b'a', b'use'), (b' int', b'o'), (b' wa', b'ter'), (b' bec', b'ame'), (b' out', b'side'), (b' learn', b'ed'), (b' laug', b'hed'), (b'u', b'dd'), (b' d', b'ad'), (b'id', b'ed'), (b'an', b't'), (b' bec', b'ause'), (b' on', b'e'), (b' g', b're'), (b' p', b'e'), (b' dec', b'ided'), (b' A', b'nd'), (b'p', b'r'), (b' exc', b'ited'), (b' ', b'v'), (b'Y', b'es'), (b' n', b'ice'), (b' h', b'o'), (b'nn', b'a'), (b' ', b'ke'), (b' e', b'at'), (b' s', b'or'), (b' th', b'is'), (b'ar', b'a'), (b' j', b'ump'), (b' l', b'ong'), (b' fe', b'el'), (b'The', b'y'), (b' B', b'ob'), (b'T', b'om'), (b' m', b'o'), (b' to', b'ld'), (b' r', b'un'), (b'u', b'll'), (b'in', b'k'), (b' s', b'ur'), (b' ro', b'ck'), (b' in', b'side'), (b' pret', b'ty'), (b' s', b'l'), (b' s', b'k'), (b'le', b'w'), (b'in', b'y'), (b' t', b'ake'), (b' a', b'm'), (b' g', b'ave'), (b' sur', b'pr'), (b' fa', b'st'), (b' e', b'ach'), (b' to', b'w'), (b'ou', b'r'), (b'es', b's'), (b'r', b'o'), (b'v', b'en'), (b'g', b'ed'), (b' sor', b'ry'), (b' ne', b'ed'), (b' ', b'or'), (b' m', b'uch'), (b' th', b'an'), (b'ur', b't'), (b' h', b'ow'), (b'is', b'ed'), (b' st', b'r'), (b'ab', b'le'), (b' u', b'nder'), (b'W', b'h'), (b'o', b'g'), (b'g', b'e'), (b' k', b'ind'), (b'a', b'nd'), (b' g', b'ra'), (b' A', b'my'), (b'im', b'al'), (b'v', b'ing'), (b' an', b'imal'), (b'f', b't'), (b' t', b'a'), (b'B', b'ut'), (b' f', b'ood'), (b'et', b'ter'), (b'C', b'an'), (b' wal', b'ked'), (b' W', b'e'), (b' t', b'r'), (b' wa', b't'), (b' ha', b'nd'), (b' o', b'ld'), (b' H', b'is'), (b' l', b'ist'), (b' h', b'ig'), (b'f', b'f'), (b' j', b'ust'), (b' cl', b'o'), (b' fl', b'ow'), (b' ', b'en'), (b'r', b'om'), (b' c', b'le'), (b'c', b'hed'), (b' did', b'n'), (b'ur', b'n'), (b' ', b'ide'), (b'ec', b'i'), (b'M', b'om'), (b'a', b'se'), (b' t', b'ry'), (b' ide', b'a'), (b' d', b'an'), (b'i', b'on'), (b'he', b're'), (b' sk', b'y'), (b' it', b's'), (b'eci', b'al'), (b' sp', b'ecial'), (b' ne', b'ar'), (b' f', b'lew'), (b' u', b's'), (b' A', b'nna'), (b' t', b'w'), (b' happ', b'ened'), (b'p', b'l'), (b'g', b'ry'), (b' f', b'o'), (b'in', b'e'), (b' f', b'i'), (b' s', b'n'), (b' T', b'h'), (b'Th', b'ank'), (b' ', b'if'), (b' c', b'ake'), (b'b', b'er'), (b' f', b'ish'), (b' animal', b's'), (b' st', b'or'), (b' o', b'ver'), (b' b', b'ug'), (b'l', b'f'), (b' he', b'ard'), (b'at', b'e'), (b' care', b'ful'), (b'e', b'x'), (b' c', b'om'), (b'udd', b'en'), (b'r', b'm'), (b' b', b'etter'), (b' lot', b's'), (b' b', b'y'), (b' l', b'et'), (b' h', b'ard'), (b' w', b'ind'), (b' ne', b'ver'), (b' h', b'urt'), (b' be', b'ar'), (b' sh', b'are'), (b'op', b'le'), (b' E', b'very'), (b' d', b're'), (b'udden', b'ly'), (b'm', b'ore'), (b' any', b'more'), (b' e', b'ven'), (b' t', b'e'), (b'or', b't'), (b' t', b'al'), (b'p', b'ec'), (b' f', b'ly'), (b' S', b'ara'), (b' sa', b'fe'), (b' lo', b've'), (b'ad', b'y'), (b' b', b'u'), (b' e', b'nd'), (b' d', b'on'), (b' ', b'K'), (b' f', b'ore'), (b'\\n', b'\\n'), (b' g', b'ive'), (b' pe', b'ople'), (b' a', b'fter'), (b' cle', b'an'), (b'u', b'ff'), (b' pr', b'oud'), (b' op', b'ened'), (b'b', b'ed'), (b\"'\", b'm'), (b' hig', b'h'), (b' g', b'r'), (b' f', b'am'), (b' b', b'ad'), (b' do', b'or'), (b' surpr', b'ised'), (b' The', b'n'), (b'itt', b'y'), (b'a', b'k'), (b' t', b'urn'), (b'A', b's'), (b' g', b'l'), (b'ag', b'e'), (b' F', b'rom'), (b'um', b'my'), (b'oug', b'h'), (b' g', b'round'), (b' cl', b'im'), (b' H', b'er'), (b' than', b'ked'), (b' ', b'im'), (b' W', b'hen'), (b'i', b'z'), (b' bl', b'ue'), (b' c', b'all'), (b' b', b'ook'), (b'k', b'ay'), (b'ard', b'en'), (b' g', b'arden'), (b'il', b'd'), (b' f', b'ar'), (b' m', b'a'), (b' e', b'ver'), (b' wa', b'y'), (b'pec', b'ted'), (b' hug', b'ged'), (b' c', b'he'), (b' sh', b'iny'), (b' co', b'l'), (b' pic', b'ked'), (b'L', b'et'), (b' sm', b'ile'), (b' m', b'ag'), (b' l', b'oud'), (b' c', b'u'), (b' of', b'f'), (b' sh', b'ould'), (b' c', b'ome'), (b' I', b'n'), (b'ex', b'pected'), (b' un', b'expected'), (b'x', b't'), (b' ne', b'xt'), (b' st', b'ick'), (b' pl', b'ace'), (b' wal', b'k'), (b' ', b'N'), (b't', b'ure'), (b' fam', b'ily'), (b'he', b's'), (b'e', b'm'), (b' ', b'qu'), (b' col', b'or'), (b'b', b'y'), (b' ', b'P'), (b' st', b'ill'), (b'i', b'p'), (b' u', b'nt'), (b' str', b'ong'), (b' gre', b'at'), (b' bo', b'at'), (b' a', b'pp'), (b'le', b's'), (b' ha', b't'), (b'o', b'y'), (b' happ', b'ily'), (b' br', b'o'), (b'oo', b'l'), (b' unt', b'il'), (b' jump', b'ed'), (b' tow', b'n'), (b' c', b'a'), (b' fr', b'og'), (b'd', b'y'), (b' k', b'id'), (b' help', b'ed'), (b' S', b'ally'), (b' fore', b'st'), (b'i', b'es'), (b' st', b'o'), (b'or', b'n'), (b'c', b't'), (b' do', b'll'), (b'a', b'ut'), (b' s', b'qu'), (b'ar', b'y'), (b' K', b'itty'), (b' be', b'aut'), (b' list', b'en'), (b' show', b'ed'), (b' m', b'et'), (b' n', b'ow'), (b'N', b'o'), (b'uff', b'y'), (b' p', b'ar'), (b' mag', b'ic')]}\n"
     ]
    }
   ],
   "source": [
    "import pickle\n",
    "\n",
    "with open('/home/jingqi/CS336_Assignments/assignment1-basics/tests/_snapshots/test_train_bpe_special_tokens.pkl', 'rb') as f:\n",
    "    data = pickle.load(f)\n",
    "    print(data)\n",
    "with open(\"/home/jingqi/CS336_Assignments/assignment1-basics/utils/vocab2.txt\", \"w\") as f:\n",
    "    for vocab in data['vocab_values']:\n",
    "        f.write(f\"{vocab}\\n\")"
   ]
  },
  {
   "cell_type": "code",
   "execution_count": 93,
   "metadata": {},
   "outputs": [],
   "source": [
    "with open(\"/home/jingqi/CS336_Assignments/assignment1-basics/utils/vocab_merges.txt\", \"r\") as f:\n",
    "    merges1 = f.readlines()\n",
    "with open(\"/home/jingqi/CS336_Assignments/assignment1-basics/utils/merges2.txt\", \"r\") as f:\n",
    "    merges2 = f.readlines()"
   ]
  },
  {
   "cell_type": "code",
   "execution_count": 97,
   "metadata": {},
   "outputs": [],
   "source": [
    "with open(\"/home/jingqi/CS336_Assignments/assignment1-basics/utils/compare.txt\", \"w\") as f:\n",
    "    for i in range(len(merges1)):\n",
    "        if merges1[i].strip() != merges2[i].strip():\n",
    "            f.write(f\"idx={i}, {merges1[i].strip()},{merges2[i].strip()}\\n\")"
   ]
  },
  {
   "cell_type": "code",
   "execution_count": 123,
   "metadata": {},
   "outputs": [],
   "source": [
    "a = bytes([128])"
   ]
  },
  {
   "cell_type": "code",
   "execution_count": 124,
   "metadata": {},
   "outputs": [],
   "source": [
    "b = bytes([226])"
   ]
  },
  {
   "cell_type": "code",
   "execution_count": 125,
   "metadata": {},
   "outputs": [],
   "source": [
    "c = a + b"
   ]
  },
  {
   "cell_type": "code",
   "execution_count": 126,
   "metadata": {},
   "outputs": [
    {
     "data": {
      "text/plain": [
       "b'\\x80\\xe2'"
      ]
     },
     "execution_count": 126,
     "metadata": {},
     "output_type": "execute_result"
    }
   ],
   "source": [
    "c"
   ]
  },
  {
   "cell_type": "code",
   "execution_count": 150,
   "metadata": {},
   "outputs": [
    {
     "name": "stdout",
     "output_type": "stream",
     "text": [
      "cnt1= 11349\n",
      "cnt2= 18225\n",
      "cnt3= 1078\n"
     ]
    }
   ],
   "source": [
    "bytes_list = []\n",
    "with open(\"/home/jingqi/CS336_Assignments/assignment1-basics/tests/fixtures/tinystories_sample_5M.txt\", \"rb\") as f:\n",
    "    text = f.read()\n",
    "cnt1 = 0\n",
    "cnt2 = 0\n",
    "cnt3 = 0\n",
    "for i in range(len(text)):\n",
    "    if i + 2 < len(text) and text[i:i+3] == b' be':\n",
    "        cnt1 += 1\n",
    "    if i + 1 < len(text) and text[i:i+2] == b'st':\n",
    "        cnt2 += 1\n",
    "    if i + 4 < len(text) and text[i:i+3] == b' be' and text[i+3: i+5] == b'st':\n",
    "        cnt3 += 1\n",
    "print(\"cnt1=\", cnt1)\n",
    "print(\"cnt2=\", cnt2)\n",
    "print(\"cnt3=\", cnt3)"
   ]
  },
  {
   "cell_type": "code",
   "execution_count": 166,
   "metadata": {},
   "outputs": [
    {
     "name": "stdout",
     "output_type": "stream",
     "text": [
      "b\"id \\xe2\\x80\\x9cI don't know the answers to\"\n",
      "b'uiz\\xe2\\x80\\x9d. \\nHer mom hugged her and s'\n",
      "b\"id \\xe2\\x80\\x9cIt's ok, you don't have to \"\n",
      "b'r, \\xe2\\x80\\x9cMama, can I see a star some'\n",
      "b're?\\xe2\\x80\\x9d Her mother replied, \\xe2\\x80\\x9cOf '\n",
      "b'd, \\xe2\\x80\\x9cOf course you can. The star'\n",
      "b'ul.\\xe2\\x80\\x9d\\nMay was so happy that she '\n",
      "b'y. \\xe2\\x80\\x9cI don\\xe2\\x80\\x99t believe I can see'\n",
      "b'don\\xe2\\x80\\x99t believe I can see a star!'\n",
      "b'ar!\\xe2\\x80\\x9d she said.\\nBut then, someth'\n",
      "b'd, \\xe2\\x80\\x9cA star! I can see a star!\\xe2\\x80'\n",
      "b'ar!\\xe2\\x80\\x9d\\nMay looked up at the sky e'\n",
      "b'Let\\xe2\\x80\\x99s decorate and make our hou'\n",
      "b'ce!\\xe2\\x80\\x9d\\nNick felt happy and said, '\n",
      "b'd, \\xe2\\x80\\x9cSure! What first?\\xe2\\x80\\x9d\\n\\xe2\\x80\\x9cLet'\n",
      "b'st?\\xe2\\x80\\x9d\\n\\xe2\\x80\\x9cLet\\xe2\\x80\\x99s take this prune'\n",
      "b'\\x80\\x9d\\n\\xe2\\x80\\x9cLet\\xe2\\x80\\x99s take this prune,\\xe2\\x80\\x9d'\n",
      "b'Let\\xe2\\x80\\x99s take this prune,\\xe2\\x80\\x9d said '\n",
      "b'ne,\\xe2\\x80\\x9d said Sue and she pointed t'\n",
      "b'. \\n\\xe2\\x80\\x9cWe forgot to give it a nice'\n",
      "b'ob,\\xe2\\x80\\x9d sighed Sue.\\nNick nodded, \\xe2'\n",
      "b'd, \\xe2\\x80\\x9cCome on. Let\\xe2\\x80\\x99s look for s'\n",
      "b'Let\\xe2\\x80\\x99s look for some paint!\\xe2\\x80\\x9d\\nS'\n",
      "b'nt!\\xe2\\x80\\x9d\\nSo off they went and soon '\n",
      "b'ed \\xe2\\x80\\x9cWho are you?\\xe2\\x80\\x9d The small c'\n",
      "b'ou?\\xe2\\x80\\x9d The small creature replied'\n",
      "b'ed \\xe2\\x80\\x9cI am a snail. What is your '\n",
      "b'me?\\xe2\\x80\\x9d\\nThe dinosaur was happy to '\n",
      "b'd, \\xe2\\x80\\x9cMommy, I found a Whip! Can '\n",
      "b'it?\\xe2\\x80\\x9d His mom replied, \\xe2\\x80\\x9cNo, Ja'\n",
      "b'd, \\xe2\\x80\\x9cNo, Jacob, that whip is not'\n",
      "b'lf.\\xe2\\x80\\x9d Jacob thought about what h'\n",
      "b'm. \\xe2\\x80\\x9cLook what I found!\\xe2\\x80\\x9d she s'\n",
      "b'nd!\\xe2\\x80\\x9d she shouted, but when her '\n",
      "b'y.\\n\\xe2\\x80\\x9cElla, you must never touch '\n",
      "b'\"It\\xe2\\x80\\x99s dangerous.\\xe2\\x80\\x9d\\nElla felt d'\n",
      "b'us.\\xe2\\x80\\x9d\\nElla felt disappointed but'\n",
      "b'p.\\n\\xe2\\x80\\x9cThis is the perfect spot\\xe2\\x80\\x9d'\n",
      "b'pot\\xe2\\x80\\x9d, said Jack. He gave Jill a'\n",
      "b'id \\xe2\\x80\\x9cLet\\xe2\\x80\\x99s have a play.\\xe2\\x80\\x9d\\nWit'\n",
      "b'Let\\xe2\\x80\\x99s have a play.\\xe2\\x80\\x9d\\nWith that'\n",
      "b'ay.\\xe2\\x80\\x9d\\nWith that, Jack and Jill d'\n",
      "b'ent\\xe2\\x80\\x94and that\\xe2\\x80\\x99s okay.\\n<|endoft'\n",
      "b'hat\\xe2\\x80\\x99s okay.\\n<|endoftext|>\\nOnce '\n",
      "b'ay \\xe2\\x80\\x9cTime to bathe, Sophie!\\xe2\\x80\\x9d.\\n'\n",
      "b'ie!\\xe2\\x80\\x9d.\\nSo, every evening, Sophie'\n",
      "b'hie\\xe2\\x80\\x99s mother arrived home and s'\n",
      "b'd, \\xe2\\x80\\x9cTime to bathe, Sophie.\\xe2\\x80\\x9d B'\n",
      "b'ie.\\xe2\\x80\\x9d But this time, Sophie shoo'\n",
      "b'd. \\xe2\\x80\\x9cNo!\\xe2\\x80\\x9d she yelled.\\nSophie\\xe2\\x80'\n",
      "b'No!\\xe2\\x80\\x9d she yelled.\\nSophie\\xe2\\x80\\x99s mot'\n",
      "b'hie\\xe2\\x80\\x99s mother smiled. She took t'\n",
      "b'hie\\xe2\\x80\\x99s hands and said, \\xe2\\x80\\x9cBut wh'\n",
      "b'd, \\xe2\\x80\\x9cBut when you bathe, you can'\n",
      "b'ou.\\xe2\\x80\\x9d\\nSophie\\xe2\\x80\\x99s eyes lit up. Sh'\n",
      "b'hie\\xe2\\x80\\x99s eyes lit up. She grabbed '\n",
      "b'd, \\xe2\\x80\\x9cIf you try hard enough you '\n",
      "b'ot!\\xe2\\x80\\x9d \\nThe monkey was very excit'\n",
      "b'm, \\xe2\\x80\\x9cMommy, what is this colorfu'\n",
      "b're?\\xe2\\x80\\x9d Her mom replied, \\xe2\\x80\\x9cThat i'\n",
      "b'd, \\xe2\\x80\\x9cThat is a measuring stick. '\n",
      "b'gs.\\xe2\\x80\\x9d The curious girl was so ex'\n",
      "b'd, \\xe2\\x80\\x9cLet\\xe2\\x80\\x99s go sailing!\\xe2\\x80\\x9d Lucy'\n",
      "b'Let\\xe2\\x80\\x99s go sailing!\\xe2\\x80\\x9d Lucy thoug'\n",
      "b'ng!\\xe2\\x80\\x9d Lucy thought for a moment '\n",
      "b'd, \\xe2\\x80\\x9cYes, I think that would be '\n",
      "b'un.\\xe2\\x80\\x9d\\nSo Lucy and Jack got into '\n",
      "b'd, \\xe2\\x80\\x9cLet\\xe2\\x80\\x99s make a plan to get '\n",
      "b'Let\\xe2\\x80\\x99s make a plan to get back t'\n",
      "b'or.\\xe2\\x80\\x9d \\nSo Jack and Lucy held ont'\n",
      "b'ade\\xe2\\x80\\x94it was his own magical mail'\n",
      "b'asn\\xe2\\x80\\x99t enough to save the season'\n",
      "b'Sam\\xe2\\x80\\x99s fitness, and he decided t'\n",
      "b'm, \\xe2\\x80\\x9cExercise is the key to bein'\n",
      "b'od.\\xe2\\x80\\x9d\\nJack realised that exercis'\n",
      "b'd, \\xe2\\x80\\x9cCan I match too?\\xe2\\x80\\x9d\\nThe ric'\n",
      "b'oo?\\xe2\\x80\\x9d\\nThe rich dancer smiled and'\n",
      "b'd, \\xe2\\x80\\x9cYes. It\\xe2\\x80\\x99s easy if you lis'\n",
      "b' It\\xe2\\x80\\x99s easy if you listen to the'\n",
      "b'hm.\\xe2\\x80\\x9d She took the little boy\\xe2\\x80\\x99'\n",
      "b'boy\\xe2\\x80\\x99s hand and they started mat'\n",
      "b'd, \\xe2\\x80\\x9cThank you for teaching me h'\n",
      "b'un!\\xe2\\x80\\x9d\\n<|endoftext|>\\n\\nOnce upon a'\n",
      "b\"d: \\xe2\\x80\\x9cThe door is magic. You can'\"\n",
      "b'ly.\\xe2\\x80\\x9d Arthur was so happy he hug'\n",
      "b'son\\xe2\\x80\\x99s hand.\\nThe person was sad '\n",
      "b'g, \\xe2\\x80\\x9cCome back! I\\xe2\\x80\\x99m your loyal'\n",
      "b'! I\\xe2\\x80\\x99m your loyal friend!\\xe2\\x80\\x9d But'\n",
      "b'nd!\\xe2\\x80\\x9d But the dog just kept runn'\n",
      "b'son\\xe2\\x80\\x99s side and wouldn\\xe2\\x80\\x99t leave'\n",
      "b'ldn\\xe2\\x80\\x99t leave. The person smiled '\n",
      "b'd, \\xe2\\x80\\x9cThank you for being loyal t'\n",
      "b'in.\\xe2\\x80\\x9d The dog barked in response'\n",
      "b'. \\n\\xe2\\x80\\x9cWhy did you walk away? I to'\n",
      "b'se,\\xe2\\x80\\x9d her mom said to her sternl'\n",
      "b'y. \\xe2\\x80\\x9cFrom now on, you have to ob'\n",
      "b'OK?\\xe2\\x80\\x9d \\nLisa sniffled and nodded.'\n",
      "b'm: \\xe2\\x80\\x9cWhat is that?\\xe2\\x80\\x9d \\nHis mom s'\n",
      "b'at?\\xe2\\x80\\x9d \\nHis mom smiled and said: '\n",
      "b'd: \\xe2\\x80\\x9cThis is an ancient iron. I '\n",
      "b'es.\\xe2\\x80\\x9d \\nThe little boy said: \\xe2\\x80\\x9cI'\n",
      "b'd: \\xe2\\x80\\x9cIt looks old. And what\\xe2\\x80\\x99s '\n",
      "b'hat\\xe2\\x80\\x99s that noise?\\xe2\\x80\\x9d \\n\\xe2\\x80\\x9cIt\\xe2\\x80\\x99s'\n",
      "b'se?\\xe2\\x80\\x9d \\n\\xe2\\x80\\x9cIt\\xe2\\x80\\x99s the sound of th'\n",
      "b'\\x9d \\n\\xe2\\x80\\x9cIt\\xe2\\x80\\x99s the sound of the win'\n",
      "b'\\x9cIt\\xe2\\x80\\x99s the sound of the wind blo'\n",
      "b'hat\\xe2\\x80\\x99s how I\\xe2\\x80\\x99m able to dry my '\n",
      "b'w I\\xe2\\x80\\x99m able to dry my clothes on'\n",
      "b'it,\\xe2\\x80\\x9d she said. \\nFrom then on, e'\n",
      "b'd, \\xe2\\x80\\x9cWhat\\xe2\\x80\\x99s this?\\xe2\\x80\\x9d\\nHer mothe'\n",
      "b'hat\\xe2\\x80\\x99s this?\\xe2\\x80\\x9d\\nHer mother repli'\n",
      "b'is?\\xe2\\x80\\x9d\\nHer mother replied, \\xe2\\x80\\x9cIt\\xe2'\n",
      "b'd, \\xe2\\x80\\x9cIt\\xe2\\x80\\x99s an ironing machine. '\n",
      "b'\\x9cIt\\xe2\\x80\\x99s an ironing machine. See? '\n",
      "b' It\\xe2\\x80\\x99s very small and has a hand'\n",
      "b'le.\\xe2\\x80\\x9d\\n\\xe2\\x80\\x9cIt looks so charming!\\xe2\\x80'\n",
      "b'\\x80\\x9d\\n\\xe2\\x80\\x9cIt looks so charming!\\xe2\\x80\\x9d So'\n",
      "b'ng!\\xe2\\x80\\x9d Sophie said.\\n\\xe2\\x80\\x9cYes, it is'\n",
      "b'd.\\n\\xe2\\x80\\x9cYes, it is charming,\\xe2\\x80\\x9d her'\n",
      "b'ng,\\xe2\\x80\\x9d her mother agreed. \\xe2\\x80\\x9cWoul'\n",
      "b'd. \\xe2\\x80\\x9cWould you like to try it?\\xe2\\x80'\n",
      "b'it?\\xe2\\x80\\x9d\\nSophie was so excited and '\n",
      "b'd, \\xe2\\x80\\x9cYes! Let me try!\\xe2\\x80\\x9d\\nSo her '\n",
      "b'ry!\\xe2\\x80\\x9d\\nSo her mother let Sophie p'\n",
      "b'd.\\n\\xe2\\x80\\x9cWhat\\xe2\\x80\\x99s that sound?\\xe2\\x80\\x9d she'\n",
      "b'hat\\xe2\\x80\\x99s that sound?\\xe2\\x80\\x9d she asked '\n",
      "b'nd?\\xe2\\x80\\x9d she asked her mother.\\n\\xe2\\x80\\x9cT'\n",
      "b'r.\\n\\xe2\\x80\\x9cThat means the iron is read'\n",
      "b'Let\\xe2\\x80\\x99s turn it off now and leave'\n",
      "b'wn.\\xe2\\x80\\x9d\\nSophie was so proud of her'\n",
      "b'ldn\\xe2\\x80\\x99t wait to tell her friends '\n",
      "b'd, \\xe2\\x80\\x9cIt\\xe2\\x80\\x99s so boring here! Not '\n",
      "b'\\x9cIt\\xe2\\x80\\x99s so boring here! Not one e'\n",
      "b'ay.\\xe2\\x80\\x9d\\nBut instead of complaining'\n",
      "b'd, \\xe2\\x80\\x9cI\\xe2\\x80\\x99m here to help you find'\n",
      "b'\\x80\\x9cI\\xe2\\x80\\x99m here to help you find som'\n",
      "b'me!\\xe2\\x80\\x9d\\nThe little boy was very ha'\n",
      "b'ldn\\xe2\\x80\\x99t find his way home. He was'\n",
      "b' it\\xe2\\x80\\x99s never a good idea to comp'\n",
      "b'd, \\xe2\\x80\\x9cRelax, Benny. I can help.\\xe2\\x80'\n",
      "b'lp.\\xe2\\x80\\x9d Benny felt better and aske'\n",
      "b'd, \\xe2\\x80\\x9cHow?\\xe2\\x80\\x9d \\nClaire answered, \\xe2'\n",
      "b'ow?\\xe2\\x80\\x9d \\nClaire answered, \\xe2\\x80\\x9cWe wi'\n",
      "b'd, \\xe2\\x80\\x9cWe will just have to be ver'\n",
      "b'ut.\\xe2\\x80\\x9d Benny was excited again. H'\n",
      "b'ire\\xe2\\x80\\x99s instructions, and sure en'\n",
      "b'you\\xe2\\x80\\x99re feeling worried or upset'\n",
      "b'y, \\xe2\\x80\\x9cYes, I can protect you from'\n",
      "b'you\\xe2\\x80\\x99ll be safe here.\\xe2\\x80\\x9d\\nSo the '\n",
      "b're.\\xe2\\x80\\x9d\\nSo the little girl came in'\n",
      "b'd, \\xe2\\x80\\x9cThank you for protecting me'\n",
      "b'me.\\xe2\\x80\\x9d\\nThe musician smiled and sa'\n",
      "b'd, \\xe2\\x80\\x9cYou\\xe2\\x80\\x99re welcome, my dear. '\n",
      "b'You\\xe2\\x80\\x99re welcome, my dear. Now yo'\n",
      "b'me.\\xe2\\x80\\x9d\\nThe little girl smiled and'\n",
      "b'ian\\xe2\\x80\\x99s kindness and protection.\\n'\n",
      "b'man\\xe2\\x80\\x99s kites and wanted to play '\n",
      "b'd, \\xe2\\x80\\x9cPlease let me have one kite'\n",
      "b'te?\\xe2\\x80\\x9d But the elderly man said n'\n",
      "b'man\\xe2\\x80\\x99s kites, and started to sca'\n",
      "b'd, \\xe2\\x80\\x9cLook at all my kites!\\xe2\\x80\\x9d\\nTh'\n",
      "b'es!\\xe2\\x80\\x9d\\nThe man was so angry! He r'\n",
      "b'm, \\xe2\\x80\\x9cMom, can I go play with my '\n",
      "b'ds?\\xe2\\x80\\x9d. Her mom replied, \\xe2\\x80\\x9cYes, '\n",
      "b'd, \\xe2\\x80\\x9cYes, of course, but remembe'\n",
      "b'on.\\xe2\\x80\\x9d\\nSo Anna ran to her friends'\n",
      "b'ea \\xe2\\x80\\x93 maybe she could save the m'\n",
      "b't, \\xe2\\x80\\x9cWhat\\xe2\\x80\\x99s that?\\xe2\\x80\\x9d\\nRabbit re'\n",
      "b'hat\\xe2\\x80\\x99s that?\\xe2\\x80\\x9d\\nRabbit replied, '\n",
      "b'at?\\xe2\\x80\\x9d\\nRabbit replied, \\xe2\\x80\\x9cIt look'\n",
      "b'd, \\xe2\\x80\\x9cIt looks like a door. Maybe'\n",
      "b' it\\xe2\\x80\\x99s a secret door.\\xe2\\x80\\x9d\\nThey bo'\n",
      "b'or.\\xe2\\x80\\x9d\\nThey both went to check it'\n",
      "b'id \\xe2\\x80\\x9cSend zero to open.\\xe2\\x80\\x9d\\nBear '\n",
      "b'en.\\xe2\\x80\\x9d\\nBear asked Rabbit, \\xe2\\x80\\x9cWhat'\n",
      "b't, \\xe2\\x80\\x9cWhat does that mean?\\xe2\\x80\\x9d\\nRab'\n",
      "b'an?\\xe2\\x80\\x9d\\nRabbit thought for a momen'\n",
      "b'd, \\xe2\\x80\\x9cI think it means we have to'\n",
      "b'en.\\xe2\\x80\\x9d\\nBear suggested, \\xe2\\x80\\x9cLet\\xe2\\x80\\x99s'\n",
      "b'd, \\xe2\\x80\\x9cLet\\xe2\\x80\\x99s try sending zero. T'\n",
      "b'Let\\xe2\\x80\\x99s try sending zero. That\\xe2\\x80\\x99'\n",
      "b'hat\\xe2\\x80\\x99s a normal thing to send.\\xe2\\x80'\n",
      "b'nd.\\xe2\\x80\\x9d\\nSo, the bear and rabbit pu'\n",
      "b'ldn\\xe2\\x80\\x99t believe it. The bear and '\n",
      "b'd, \\xe2\\x80\\x9cAll creatures in the woods '\n",
      "b'ow!\\xe2\\x80\\x9d\\nViolet realized the cobra '\n",
      "b'y. \\xe2\\x80\\x9cThank you for your order. I'\n",
      "b'ow,\\xe2\\x80\\x9d Violet said. \\nThe cobra th'\n",
      "b'ldn\\xe2\\x80\\x99t get to the top. \\nThe bear'\n",
      "b'd, \\xe2\\x80\\x9cYou need to pull the rope a'\n",
      "b'op.\\xe2\\x80\\x9d\\nThe bear thanked the rabbi'\n",
      "b' it\\xe2\\x80\\x99s a good thing for you to g'\n",
      "b'ght\\xe2\\x80\\x99s sleep.\"\\nJane was sad that'\n",
      "b'ldn\\xe2\\x80\\x99t stay up longer. She had s'\n",
      "b'idn\\xe2\\x80\\x99t like it when it was time '\n",
      "b'ane\\xe2\\x80\\x99s forehead.\\nJane was still '\n",
      "b'ht \\xe2\\x80\\x93 it helped the bird fly hig'\n",
      "b'y. \\xe2\\x80\\x9cWhat can I do today?\\xe2\\x80\\x9d she'\n",
      "b'ay?\\xe2\\x80\\x9d she thought. Then she reme'\n",
      "b'ye \\xe2\\x80\\x93 she knew she had done real'\n",
      "b'ss \\xe2\\x80\\x93 she had done so well! She '\n",
      "b'ter\\xe2\\x80\\x99s cell phone along with the'\n",
      "b'm.\\n\\xe2\\x80\\x9cLet\\xe2\\x80\\x99s encourage her to ta'\n",
      "b'Let\\xe2\\x80\\x99s encourage her to take a f'\n",
      "b'es!\\xe2\\x80\\x9d Mom said, smiling. Dad smi'\n",
      "b'idn\\xe2\\x80\\x99t even notice that the day '\n",
      "b'd, \\xe2\\x80\\x9cMummy, can we have a picnic'\n",
      "b'ic?\\xe2\\x80\\x9d Her mother said, \\xe2\\x80\\x9cYes, I'\n",
      "b'd, \\xe2\\x80\\x9cYes, I think that\\xe2\\x80\\x99s a gre'\n",
      "b'hat\\xe2\\x80\\x99s a great idea!\\xe2\\x80\\x9d So, Lily'\n",
      "b'ea!\\xe2\\x80\\x9d So, Lily and her family fo'\n",
      "b'd, \\xe2\\x80\\x9cI had such a fun time today'\n",
      "b'dy.\\xe2\\x80\\x9d Her parents smiled, and sa'\n",
      "b'd, \\xe2\\x80\\x9cWe had a great time too.\\xe2\\x80\\x9d'\n",
      "b'oo.\\xe2\\x80\\x9d \\nThe family packed up thei'\n",
      "b'd!\\n\\xe2\\x80\\x9cWhat is that?\\xe2\\x80\\x9d John wonde'\n",
      "b'at?\\xe2\\x80\\x9d John wondered out loud.\\nJu'\n",
      "b'd, \\xe2\\x80\\x9cThat is my head!\\xe2\\x80\\x9d\\nJohn wa'\n",
      "b'ad!\\xe2\\x80\\x9d\\nJohn was very surprised. H'\n",
      "b'y.\\n\\xe2\\x80\\x9cHow did your head get here?'\n",
      "b're?\\xe2\\x80\\x9d John asked.\\n\\xe2\\x80\\x9cI was searc'\n",
      "b'd.\\n\\xe2\\x80\\x9cI was searching for fruit i'\n",
      "b'ed,\\xe2\\x80\\x9d said the monkey. \\xe2\\x80\\x9cMy hea'\n",
      "b'y. \\xe2\\x80\\x9cMy head came off and rolled'\n",
      "b'ou!\\xe2\\x80\\x9d\\nJohn was happy to help. He'\n",
      "b'key\\xe2\\x80\\x99s head and put it back on i'\n",
      "b's.\\n\\xe2\\x80\\x9cNow you can go back to sear'\n",
      "b'it,\\xe2\\x80\\x9d he said.\\nThe grateful monk'\n",
      "b'm, \\xe2\\x80\\x9cI can help you learn to spe'\n",
      "b'Let\\xe2\\x80\\x99s start with the letter S. '\n",
      "b' S.\\xe2\\x80\\x9d\\nSam was so glad that Ann w'\n",
      "b'id \\xe2\\x80\\x9cS.\\xe2\\x80\\x9d\\nAnn went on, \\xe2\\x80\\x9cNow A'\n",
      "b'\\x9cS.\\xe2\\x80\\x9d\\nAnn went on, \\xe2\\x80\\x9cNow A: rep'\n",
      "b'n, \\xe2\\x80\\x9cNow A: repeat after me, A.\\xe2'\n",
      "b' A.\\xe2\\x80\\x9d\\nSam repeated \\xe2\\x80\\x9cA\\xe2\\x80\\x9d and A'\n",
      "b'ed \\xe2\\x80\\x9cA\\xe2\\x80\\x9d and Ann said, \\xe2\\x80\\x9cGood '\n",
      "b'\\x80\\x9cA\\xe2\\x80\\x9d and Ann said, \\xe2\\x80\\x9cGood job!'\n",
      "b'd, \\xe2\\x80\\x9cGood job! Now M: repeat aft'\n",
      "b' M.\\xe2\\x80\\x9d\\nSam repeated \\xe2\\x80\\x9cM\\xe2\\x80\\x9d with '\n",
      "b'ed \\xe2\\x80\\x9cM\\xe2\\x80\\x9d with a big smile on hi'\n",
      "b'\\x80\\x9cM\\xe2\\x80\\x9d with a big smile on his fa'\n",
      "b'd, \\xe2\\x80\\x9cWell done! Now you know how'\n",
      "b'me!\\xe2\\x80\\x9d\\nSam was so glad and he sai'\n",
      "b'd, \\xe2\\x80\\x9cThank you, Ann! Now I can s'\n",
      "b'me!\\xe2\\x80\\x9d\\n<|endoftext|>\\nOnce upon a '\n",
      "b'ldn\\xe2\\x80\\x99t find it. One day, a frien'\n",
      "b'd, \\xe2\\x80\\x9cIf you work hard and fit a '\n",
      "b'nd!\\xe2\\x80\\x9d\\nSarah was very excited and'\n",
      "b'd, \\xe2\\x80\\x9cYou were right, hard work p'\n",
      "b'ff!\\xe2\\x80\\x9d\\nThis story teaches us that'\n",
      "b'm, \\xe2\\x80\\x9cCan I get it? Please!?\\xe2\\x80\\x9d\\nH'\n",
      "b'e!?\\xe2\\x80\\x9d\\nHer mom smiled and said ye'\n",
      "b'd, \\xe2\\x80\\x9cFrom now on, we can all use'\n",
      "b'gs.\\xe2\\x80\\x9d \\nThe party went on for hou'\n",
      "b'd, \\xe2\\x80\\x9cI will not let the dragon w'\n",
      "b'in!\\xe2\\x80\\x9d\\nPoula ran towards the drag'\n",
      "b'l: \\xe2\\x80\\x9cLet\\xe2\\x80\\x99s choose the radio! W'\n",
      "b'Let\\xe2\\x80\\x99s choose the radio! We can '\n",
      "b'ic!\\xe2\\x80\\x9d Jill agreed, so they chose'\n",
      "b'd: \\xe2\\x80\\x9cWhy isn\\xe2\\x80\\x99t it working?\\xe2\\x80\\x9d '\n",
      "b'isn\\xe2\\x80\\x99t it working?\\xe2\\x80\\x9d \\nJill said'\n",
      "b'ng?\\xe2\\x80\\x9d \\nJill said: \\xe2\\x80\\x9cMaybe we sh'\n",
      "b'd: \\xe2\\x80\\x9cMaybe we should have checke'\n",
      "b'it.\\xe2\\x80\\x9d \\nJack realised that it was'\n",
      "b'l: \\xe2\\x80\\x9cFrom now on, let\\xe2\\x80\\x99s always'\n",
      "b'let\\xe2\\x80\\x99s always check things befor'\n",
      "b'won\\xe2\\x80\\x99t be disappointed.\\xe2\\x80\\x9d \\nHear'\n",
      "b'ed.\\xe2\\x80\\x9d \\nHearing this, Jill smiled'\n",
      "b\"fox\\xe2\\x80\\x99s family home. \\nThe fox's f\"\n",
      "b'can\\xe2\\x80\\x99t stay here anymore!\\xe2\\x80\\x9d \\nTh'\n",
      "b're!\\xe2\\x80\\x9d \\nThe rabbit was so scared '\n",
      "b'k, \\xe2\\x80\\x9cI don\\xe2\\x80\\x99t have my will to g'\n",
      "b'don\\xe2\\x80\\x99t have my will to go on.\\xe2\\x80\\x9d'\n",
      "b'on.\\xe2\\x80\\x9d \\nBut Jack was confident. H'\n",
      "b'd, \\xe2\\x80\\x9cDon\\xe2\\x80\\x99t worry, Max. I know '\n",
      "b'Don\\xe2\\x80\\x99t worry, Max. I know you ca'\n",
      "b'in.\\xe2\\x80\\x9d\\nMax thought. He thought ha'\n",
      "b't, \\xe2\\x80\\x9cJack! I found my will again'\n",
      "b'in!\\xe2\\x80\\x9d\\nJack was so jolly to see M'\n",
      "b'd, \\xe2\\x80\\x9cLet\\xe2\\x80\\x99s keep exploring!\\xe2\\x80\\x9d '\n",
      "b'Let\\xe2\\x80\\x99s keep exploring!\\xe2\\x80\\x9d \\nAnd s'\n",
      "b'ng!\\xe2\\x80\\x9d \\nAnd so, the two friends w'\n",
      "b\"f, \\xe2\\x80\\x9cWouldn't it be great to swi\"\n",
      "b'er?\\xe2\\x80\\x9d\\nWithout warning, Joy decid'\n",
      "b'd, \\xe2\\x80\\x9cYes, but be careful.\\xe2\\x80\\x9d\\nThe'\n",
      "b'ul.\\xe2\\x80\\x9d\\nThe boy was so excited tha'\n",
      "b'asn\\xe2\\x80\\x99t important. He just wanted'\n",
      "b'id \\xe2\\x80\\x9cHello, little frog. I have '\n",
      "b'me?\\xe2\\x80\\x9d\\nThe frog was so surprised '\n",
      "b's. \\xe2\\x80\\x9cMarry? Me?\\xe2\\x80\\x9d it croaked.\\nT'\n",
      "b'Me?\\xe2\\x80\\x9d it croaked.\\nThe girl laugh'\n",
      "b'd. \\xe2\\x80\\x9cYes, marry me. It will be v'\n",
      "b'ts.\\xe2\\x80\\x9d\\nThe frog thought about it '\n",
      "b'r. \\xe2\\x80\\x9cYes, I will marry you!\\xe2\\x80\\x9d \\n'\n",
      "b'ou!\\xe2\\x80\\x9d \\nThe girl smiled and pette'\n",
      "b'rog\\xe2\\x80\\x99s head. \\xe2\\x80\\x9cThat\\xe2\\x80\\x99s great! '\n",
      "b'd. \\xe2\\x80\\x9cThat\\xe2\\x80\\x99s great! We\\xe2\\x80\\x99ll hav'\n",
      "b'hat\\xe2\\x80\\x99s great! We\\xe2\\x80\\x99ll have so mu'\n",
      "b' We\\xe2\\x80\\x99ll have so much fun togethe'\n",
      "b'er.\\xe2\\x80\\x9d \\nAnd so the frog and the g'\n",
      "b'd, \\xe2\\x80\\x9cMina, what have you done?\\xe2\\x80'\n",
      "b'ne?\\xe2\\x80\\x9d Mina just smiled, so her m'\n",
      "b'd, \\xe2\\x80\\x9cI\\xe2\\x80\\x99m very sorry, but you m'\n",
      "b'\\x80\\x9cI\\xe2\\x80\\x99m very sorry, but you must '\n",
      "b'ed.\\xe2\\x80\\x9d Then Mina\\xe2\\x80\\x99s mom slapped '\n",
      "b'ina\\xe2\\x80\\x99s mom slapped her hand. Min'\n",
      "b'd, \\xe2\\x80\\x9cI\\xe2\\x80\\x99m sorry, mommy.\\xe2\\x80\\x9d \\nHer'\n",
      "b'\\x80\\x9cI\\xe2\\x80\\x99m sorry, mommy.\\xe2\\x80\\x9d \\nHer mom'\n",
      "b'my.\\xe2\\x80\\x9d \\nHer mom hugged her and sa'\n",
      "b'd, \\xe2\\x80\\x9cIt\\xe2\\x80\\x99s ok, sweetie. But you'\n",
      "b'\\x9cIt\\xe2\\x80\\x99s ok, sweetie. But you must'\n",
      "b'in.\\xe2\\x80\\x9d Mina agreed and said, \\xe2\\x80\\x9cI'\n",
      "b'd, \\xe2\\x80\\x9cI won\\xe2\\x80\\x99t. I promise.\\xe2\\x80\\x9d \\nT'\n",
      "b'won\\xe2\\x80\\x99t. I promise.\\xe2\\x80\\x9d \\nThen Mina'\n",
      "b'se.\\xe2\\x80\\x9d \\nThen Mina helped her mom '\n",
      "b'd, \\xe2\\x80\\x9cSee, you can do it if you t'\n",
      "b'ry.\\xe2\\x80\\x9d Mina smiled and said, \\xe2\\x80\\x9cY'\n",
      "b'd, \\xe2\\x80\\x9cYes, I can!\\xe2\\x80\\x9d \\nThe next da'\n",
      "b'an!\\xe2\\x80\\x9d \\nThe next day Mina was car'\n",
      "b'd, \\xe2\\x80\\x9cI\\xe2\\x80\\x99m sorry I had to slap y'\n",
      "b'\\x80\\x9cI\\xe2\\x80\\x99m sorry I had to slap your '\n",
      "b'er!\\xe2\\x80\\x9d Mina smiled and hugged her'\n",
      "b'ed \\xe2\\x80\\x9cYay!\\xe2\\x80\\x9d \\nThe helicopter fle'\n",
      "b'ay!\\xe2\\x80\\x9d \\nThe helicopter flew away '\n",
      "b\"ay \\xe2\\x80\\x94 sometimes it's important t\"\n",
      "b'man\\xe2\\x80\\x99s wall. He had worked hard '\n",
      "b'ht \\xe2\\x80\\x9cIf I can hang from the tree'\n",
      "b'arm\\xe2\\x80\\x9d. So, he took a big jump an'\n",
      "b'ldn\\xe2\\x80\\x99t move. In the distance, he'\n",
      "b'm, \\xe2\\x80\\x9cLittle boy, I am stuck, can'\n",
      "b'me?\\xe2\\x80\\x9d\\nThe boy thought for a bit '\n",
      "b'd, \\xe2\\x80\\x9cI can help you if you promi'\n",
      "b'in.\\xe2\\x80\\x9d\\nThe goose nodded and the b'\n",
      "b'd, \\xe2\\x80\\x9cI learned my lesson. I will'\n",
      "b'd, \\xe2\\x80\\x9cBear, if you can\\xe2\\x80\\x99t go aro'\n",
      "b'can\\xe2\\x80\\x99t go around the log, you ca'\n",
      "b'it!\\xe2\\x80\\x9d\\nThe bear started to climb '\n",
      "b'can\\xe2\\x80\\x99t go around the problem, yo'\n",
      "b't, \\xe2\\x80\\x9cHi, Amy! Do you want to be '\n",
      "b'ds?\\xe2\\x80\\x9d \\nAmy smiled and said, \\xe2\\x80\\x9cY'\n",
      "b'd, \\xe2\\x80\\x9cYes, I do.\\xe2\\x80\\x9d\\nThe two were '\n",
      "b'do.\\xe2\\x80\\x9d\\nThe two were best friends.'\n",
      "b'y, \\xe2\\x80\\x9cThe powerful city needs you'\n",
      "b'do.\\xe2\\x80\\x9d\\nAmy nodded and said, \\xe2\\x80\\x9cI '\n",
      "b'd, \\xe2\\x80\\x9cI care about the city. I wa'\n",
      "b'. I\\xe2\\x80\\x99ll go.\\xe2\\x80\\x9d\\nAnd so Amy left t'\n",
      "b'go.\\xe2\\x80\\x9d\\nAnd so Amy left the park, '\n",
      "b'm, \\xe2\\x80\\x9cHey little boy, what do you'\n",
      "b'et?\\xe2\\x80\\x9d\\nJohn was scared and didn\\xe2\\x80'\n",
      "b'idn\\xe2\\x80\\x99t know what to do. He said,'\n",
      "b'd, \\xe2\\x80\\x9cNothing.\\xe2\\x80\\x9d\\nThe shopkeeper '\n",
      "b'ng.\\xe2\\x80\\x9d\\nThe shopkeeper said, \\xe2\\x80\\x9cJo'\n",
      "b'd, \\xe2\\x80\\x9cJohn, I know you have somet'\n",
      "b'me.\\xe2\\x80\\x9d\\nJohn slowly took the shamp'\n",
      "b'd, \\xe2\\x80\\x9cJohn, you mustn\\xe2\\x80\\x99t steal. '\n",
      "b'stn\\xe2\\x80\\x99t steal. Stealing is wrong.'\n",
      "b'ng.\\xe2\\x80\\x9d \\nJohn knew he was in troub'\n",
      "b'd, \\xe2\\x80\\x9cWhat do you want to buy, Ka'\n",
      "b'te?\\xe2\\x80\\x9d\\nKate pointed to a toy and '\n",
      "b'd, \\xe2\\x80\\x9cThat!\\xe2\\x80\\x9d\\nThe man smiled and'\n",
      "b'at!\\xe2\\x80\\x9d\\nThe man smiled and said, \\xe2'\n",
      "b'd, \\xe2\\x80\\x9cLet\\xe2\\x80\\x99s get it.\\xe2\\x80\\x9d\\nThey got'\n",
      "b'Let\\xe2\\x80\\x99s get it.\\xe2\\x80\\x9d\\nThey got the t'\n",
      "b'it.\\xe2\\x80\\x9d\\nThey got the toy and then '\n",
      "b'd, \\xe2\\x80\\x9cThank you!\\xe2\\x80\\x9d\\nThe man smile'\n",
      "b'ou!\\xe2\\x80\\x9d\\nThe man smiled and said, \\xe2'\n",
      "b'd, \\xe2\\x80\\x9cYou\\xe2\\x80\\x99re welcome, Kate.\\xe2\\x80\\x9d\\n'\n",
      "b'You\\xe2\\x80\\x99re welcome, Kate.\\xe2\\x80\\x9d\\n<|endo'\n",
      "b'te.\\xe2\\x80\\x9d\\n<|endoftext|>\\nOnce upon a '\n",
      "b'id \\xe2\\x80\\x9cYay!\\xe2\\x80\\x9d\\nThe hairdresser too'\n",
      "b'ay!\\xe2\\x80\\x9d\\nThe hairdresser took out a'\n",
      "b'\"We\\xe2\\x80\\x99re here to gather some carr'\n",
      "b'd, \\xe2\\x80\\x9cHelp me! There\\xe2\\x80\\x99s a leak i'\n",
      "b'ere\\xe2\\x80\\x99s a leak in the garden!\\xe2\\x80\\x9d\\n'\n",
      "b'en!\\xe2\\x80\\x9d\\nHis friends went to have a'\n",
      "b'd, \\xe2\\x80\\x9cDon\\xe2\\x80\\x99t worry, I can fix it'\n",
      "b'Don\\xe2\\x80\\x99t worry, I can fix it!\\xe2\\x80\\x9d\\nM'\n",
      "b'it!\\xe2\\x80\\x9d\\nMrs Smith quickly checked '\n",
      "b'd, \\xe2\\x80\\x9cLook Amanda! A mushroom!\\xe2\\x80\\x9d'\n",
      "b'om!\\xe2\\x80\\x9d\\nAmanda smiled and said, \\xe2\\x80'\n",
      "b'd, \\xe2\\x80\\x9cIt\\xe2\\x80\\x99s so big and looks so '\n",
      "b'\\x9cIt\\xe2\\x80\\x99s so big and looks so yummy'\n",
      "b'it?\\xe2\\x80\\x9d\\nSean shook his head and sa'\n",
      "b'd, \\xe2\\x80\\x9cNo, we can\\xe2\\x80\\x99t. But I can h'\n",
      "b'can\\xe2\\x80\\x99t. But I can help you spray'\n",
      "b'un!\\xe2\\x80\\x9d\\nAmanda took the water bott'\n",
      "b'd, \\xe2\\x80\\x9cIt\\xe2\\x80\\x99s so cool! The water l'\n",
      "b'\\x9cIt\\xe2\\x80\\x99s so cool! The water looks '\n",
      "b'ld!\\xe2\\x80\\x9d\\nSean laughed and said, \\xe2\\x80\\x9c'\n",
      "b'd, \\xe2\\x80\\x9cThat\\xe2\\x80\\x99s enough spraying, l'\n",
      "b'hat\\xe2\\x80\\x99s enough spraying, let\\xe2\\x80\\x99s '\n",
      "b'let\\xe2\\x80\\x99s go home now.\\xe2\\x80\\x9d\\nSo, they '\n",
      "b'ow.\\xe2\\x80\\x9d\\nSo, they both went back ho'\n",
      "b'm. \\xe2\\x80\\x9cMum, I want to reach Daddy,'\n",
      "b'dy,\\xe2\\x80\\x9d she said.\\nHer mum laughed.'\n",
      "b\"d. \\xe2\\x80\\x9cI'm sorry, sweetheart, but \"\n",
      "b'ow,\\xe2\\x80\\x9d she replied. \\nJane thought'\n",
      "b'r.\\n\\xe2\\x80\\x9cTom!\\xe2\\x80\\x9d she said into the t'\n",
      "b'om!\\xe2\\x80\\x9d she said into the telephon'\n",
      "b'it!\\xe2\\x80\\x9d\\nMum and Dad gave the teddy'\n",
      "b'ate\\xe2\\x80\\x94the wild animal had chased '\n",
      "b'ack\\xe2\\x80\\x94angrier than ever.\\nThe farm'\n",
      "b'\"It\\xe2\\x80\\x99s so fine, I want to play h'\n",
      "b'it.\\xe2\\x80\\x9d He looked around and saw s'\n",
      "b'm, \\xe2\\x80\\x9cWhat is it?\\xe2\\x80\\x9d His mom repl'\n",
      "b'it?\\xe2\\x80\\x9d His mom replied, \\xe2\\x80\\x9cIt\\xe2\\x80\\x99s'\n",
      "b'd, \\xe2\\x80\\x9cIt\\xe2\\x80\\x99s a display of colors,'\n",
      "b'\\x9cIt\\xe2\\x80\\x99s a display of colors, it l'\n",
      "b'ul!\\xe2\\x80\\x9d Max stared in awe and said'\n",
      "b'd, \\xe2\\x80\\x9cCan I play with it?\\xe2\\x80\\x9d His '\n",
      "b'it?\\xe2\\x80\\x9d His mom nodded and said, \\xe2'\n",
      "b'd, \\xe2\\x80\\x9cYes, take your time, just b'\n",
      "b'te.\\xe2\\x80\\x9d So Max hopped around the g'\n",
      "b'm, \\xe2\\x80\\x9cGood job Max, you did a rea'\n",
      "b'ay!\\xe2\\x80\\x9d\\n<|endoftext|>\\n\\n\\nLily and T'\n",
      "b'k: \\xe2\\x80\\x9cLook! I found a key!\\xe2\\x80\\x9d\\nJil'\n",
      "b\"ey!\\xe2\\x80\\x9d\\nJill: \\xe2\\x80\\x9cThat's so cool! W\"\n",
      "b\"l: \\xe2\\x80\\x9cThat's so cool! What do you\"\n",
      "b\"ks?\\xe2\\x80\\x9d\\nJack: \\xe2\\x80\\x9cI don't know, but\"\n",
      "b\"k: \\xe2\\x80\\x9cI don't know, but I'm sure \"\n",
      "b'or!\\xe2\\x80\\x9d\\nThe two friends ran to the'\n",
      "b\"k: \\xe2\\x80\\x9cIt's a birthday party! Let'\"\n",
      "b'te!\\xe2\\x80\\x9d\\nJill: \\xe2\\x80\\x9cYay! Now this is '\n",
      "b'l: \\xe2\\x80\\x9cYay! Now this is a cool sur'\n",
      "b'se!\\xe2\\x80\\x9d\\nThe two friends had so muc'\n",
      "b'id \\xe2\\x80\\x9csorry, sweetheart, you have'\n",
      "b\"et.\\xe2\\x80\\x9d\\nJoy didn't want to stay in\"\n",
      "b\"d, \\xe2\\x80\\x9cMommy, I'm sorry I ignored \"\n",
      "b'up?\\xe2\\x80\\x9d \\nHer mom cuddled her and s'\n",
      "b\"id \\xe2\\x80\\x9cnext time, sweetheart, don'\"\n",
      "b'my.\\xe2\\x80\\x9d Joy nodded and promised sh'\n",
      "b'ng \\xe2\\x80\\x93 but at least she stayed wa'\n",
      "b'id \\xe2\\x80\\x98Come and Examine!\\xe2\\x80\\x99\\nThe ch'\n",
      "b'ne!\\xe2\\x80\\x99\\nThe children thought this '\n",
      "b'ea \\xe2\\x80\\x93 they could examine the thi'\n",
      "b'idn\\xe2\\x80\\x99t matter how expensive some'\n",
      "b'ren\\xe2\\x80\\x99s lesson? That by examining'\n",
      "b\"id \\xe2\\x80\\x9cDon't worry, you can manage\"\n",
      "b'm, \\xe2\\x80\\x9cDo you know of any trees wi'\n",
      "b'es?\\xe2\\x80\\x9d The old man smiled, and sa'\n",
      "b'd, \\xe2\\x80\\x9cI know of a special tree. I'\n",
      "b'you\\xe2\\x80\\x99d like.\\xe2\\x80\\x9d\\nJohn smiled with'\n",
      "b'ke.\\xe2\\x80\\x9d\\nJohn smiled with delight a'\n",
      "b'd, \\xe2\\x80\\x9cYou are very welcome, my ho'\n",
      "b'ee.\\xe2\\x80\\x9d John thanked the old man o'\n",
      "b'd, \\xe2\\x80\\x9cI like your star! Can we be'\n",
      "b'ds?\\xe2\\x80\\x9d The star was so happy and '\n",
      "b'g.\\n\\xe2\\x80\\x9cBilly, what are you doing? '\n",
      "b'ty!\\xe2\\x80\\x9d said Mum.\\nBilly shook his '\n",
      "b'd, \\xe2\\x80\\x9cNo, it\\xe2\\x80\\x99s not. I\\xe2\\x80\\x99m rocki'\n",
      "b' it\\xe2\\x80\\x99s not. I\\xe2\\x80\\x99m rocking on it!'\n",
      "b'. I\\xe2\\x80\\x99m rocking on it!\\xe2\\x80\\x9d\\nMum lau'\n",
      "b'it!\\xe2\\x80\\x9d\\nMum laughed and said, \\xe2\\x80\\x9cT'\n",
      "b'd, \\xe2\\x80\\x9cThat\\xe2\\x80\\x99s true, but I still '\n",
      "b'hat\\xe2\\x80\\x99s true, but I still need to'\n",
      "b'd I\\xe2\\x80\\x99ll get the cleaner.\\xe2\\x80\\x9d \\nSo '\n",
      "b'er.\\xe2\\x80\\x9d \\nSo Billy went to wash his'\n",
      "b'. \\n\\xe2\\x80\\x9cNow it\\xe2\\x80\\x99s time to rock!\\xe2\\x80\\x9d'\n",
      "b' it\\xe2\\x80\\x99s time to rock!\\xe2\\x80\\x9d said Bil'\n",
      "b'ck!\\xe2\\x80\\x9d said Billy. \\nSo Billy spun'\n",
      "b'd, \\xe2\\x80\\x9cYummy! It tastes so sweet\\xe2\\x80'\n",
      "b'eet\\xe2\\x80\\x9d. \\nThen, they heard an unfa'\n",
      "b'd, \\xe2\\x80\\x9cTweet, tweet\\xe2\\x80\\x9d. Janie was '\n",
      "b'eet\\xe2\\x80\\x9d. Janie was surprised and s'\n",
      "b'd, \\xe2\\x80\\x9cWhat kind of language is th'\n",
      "b'at?\\xe2\\x80\\x9d \\nJack said, \\xe2\\x80\\x9cThat\\xe2\\x80\\x99s a '\n",
      "b'd, \\xe2\\x80\\x9cThat\\xe2\\x80\\x99s a special language'\n",
      "b\"hat\\xe2\\x80\\x99s a special language. It's \"\n",
      "b'que\\xe2\\x80\\x9d. Janie thought the languag'\n",
      "b'd, \\xe2\\x80\\x9cCan we learn the language t'\n",
      "b'oo?\\xe2\\x80\\x9d \\nJack smiled and said, \\xe2\\x80\\x9c'\n",
      "b'd, \\xe2\\x80\\x9cWell, birds learn their lan'\n",
      "b'won\\xe2\\x80\\x99t be easy. But it will be f'\n",
      "b'ry!\\xe2\\x80\\x9d Janie was excited and they'\n",
      "b'ldn\\xe2\\x80\\x99t keep him from having a gr'\n",
      "b'nna\\xe2\\x80\\x99s mom saw her looking nervo'\n",
      "b't. \\xe2\\x80\\x9cDo you need help, Anna?\\xe2\\x80\\x9d '\n",
      "b'na?\\xe2\\x80\\x9d asked her mom.\\nAnna nodded'\n",
      "b'ldn\\xe2\\x80\\x99t wait to start building. S'\n",
      "b'ds \\xe2\\x80\\x93 a bird named Bert and a sp'\n",
      "b'asn\\xe2\\x80\\x99t being careful. As he was '\n",
      "b'ldn\\xe2\\x80\\x99t get down. He cried and sh'\n",
      "b'd, \\xe2\\x80\\x9cWill you surrender now?!\\xe2\\x80\\x9d'\n",
      "b'w?!\\xe2\\x80\\x9d The pigeon simply flapped '\n",
      "b'd, \\xe2\\x80\\x9cIt\\xe2\\x80\\x99s now or never! Surren'\n",
      "b'\\x9cIt\\xe2\\x80\\x99s now or never! Surrender n'\n",
      "b'ow!\\xe2\\x80\\x9d The pigeon looked at the m'\n",
      "b'd. \\xe2\\x80\\x9cMum, where are we going?\\xe2\\x80\\x9d'\n",
      "b'ng?\\xe2\\x80\\x9d Inquired Mia. \\xe2\\x80\\x9cWe are go'\n",
      "b'a. \\xe2\\x80\\x9cWe are going to get our sur'\n",
      "b'ise\\xe2\\x80\\x9d Her mum replied with a smi'\n",
      "b'id \\xe2\\x80\\x9cit\\xe2\\x80\\x99s time to pull the bel'\n",
      "b'\\x9cit\\xe2\\x80\\x99s time to pull the bell, Mi'\n",
      "b'Mia\\xe2\\x80\\x9d.\\nMia took a deep breath an'\n",
      "b'fe \\xe2\\x80\\x93 picking up a sharp twig wa'\n",
      "b'b. \\xe2\\x80\\x9cThat was a wonderful dive y'\n",
      "b'ou.\\xe2\\x80\\x9d\\nBob smiled. He was glad th'\n",
      "b'd, \\xe2\\x80\\x9cDon\\xe2\\x80\\x99t be frightened, litt'\n",
      "b'Don\\xe2\\x80\\x99t be frightened, little bun'\n",
      "b' It\\xe2\\x80\\x99s ok.\\xe2\\x80\\x9d Then the bunny saw'\n",
      "b'ok.\\xe2\\x80\\x9d Then the bunny saw a frien'\n",
      "b'y, \\xe2\\x80\\x9cDo you want to examine the '\n",
      "b'ou.\\xe2\\x80\\x9d\\nThe bunny was very happy a'\n",
      "b'd, \\xe2\\x80\\x9cYes, please!\\xe2\\x80\\x9d The bear sh'\n",
      "b'se!\\xe2\\x80\\x9d The bear showed the bunny '\n",
      "b'd, \\xe2\\x80\\x9cSee how big this strawberry'\n",
      "b'ng!\\xe2\\x80\\x9d \\nThe bunny felt brave now '\n",
      "b'd, \\xe2\\x80\\x9cYes, it is big! Thank you f'\n",
      "b'it.\\xe2\\x80\\x9d The bear smiled and said, '\n",
      "b'd, \\xe2\\x80\\x9cYou\\xe2\\x80\\x99re welcome!\\xe2\\x80\\x9d \\nThe b'\n",
      "b'You\\xe2\\x80\\x99re welcome!\\xe2\\x80\\x9d \\nThe bunny a'\n",
      "b'me!\\xe2\\x80\\x9d \\nThe bunny and the bear th'\n",
      "b'you\\xe2\\x80\\x99re curious, it\\xe2\\x80\\x99s best to '\n",
      "b' it\\xe2\\x80\\x99s best to examine things wi'\n",
      "b'rd \\xe2\\x80\\x9cPrint\\xe2\\x80\\x9d. He couldn\\xe2\\x80\\x99t bel'\n",
      "b'int\\xe2\\x80\\x9d. He couldn\\xe2\\x80\\x99t believe it!'\n",
      "b'ldn\\xe2\\x80\\x99t believe it! He was going '\n",
      "b'he \\xe2\\x80\\x9cPrint\\xe2\\x80\\x9d button and the mac'\n",
      "b'int\\xe2\\x80\\x9d button and the machine pri'\n",
      "b'te \\xe2\\x80\\x93 spaghetti with sauce!\"\\nLuc'\n",
      "b'. \\n\\xe2\\x80\\x9cWhich one should I get?\\xe2\\x80\\x9d '\n",
      "b'et?\\xe2\\x80\\x9d Charlie asked the storekee'\n",
      "b\"id \\xe2\\x80\\x9cWhy don't you get the origi\"\n",
      "b'in?\\xe2\\x80\\x9d\\nCharlie was delighted! He '\n",
      "b'y, \\xe2\\x80\\x9cHi, Mandy. Can I have a bit'\n",
      "b'te?\\xe2\\x80\\x9d\\nMandy smiled back, \\xe2\\x80\\x9cSure'\n",
      "b'k, \\xe2\\x80\\x9cSure! Sit here and have a s'\n",
      "b'ce.\\xe2\\x80\\x9d\\nTommy eagerly sat next to '\n",
      "b'd, \\xe2\\x80\\x9cThis pizza is yummy!\\xe2\\x80\\x9d\\nMan'\n",
      "b'my!\\xe2\\x80\\x9d\\nMandy nodded in agreement.'\n",
      "b\"t. \\xe2\\x80\\x9cYes, it's yummy. We can eat\"\n",
      "b'er.\\xe2\\x80\\x9d \\nThe two of them sat there'\n",
      "b'idn\\xe2\\x80\\x99t stop for a long time. Eve'\n",
      "b'nd \\xe2\\x80\\x93 a baby octopus named Olive'\n",
      "b'e, \\xe2\\x80\\x9cOh no! I knocked over the s'\n",
      "b'up?\\xe2\\x80\\x9d\\nCookie was happy to help. '\n",
      "b'd, \\xe2\\x80\\x9cThank you, Cookie! You are '\n",
      "b'nd.\\xe2\\x80\\x9d \\nThe two of them hugged an'\n",
      "b'd, \\xe2\\x80\\x9cDon\\xe2\\x80\\x99t be scared, Daisy. B'\n",
      "b'Don\\xe2\\x80\\x99t be scared, Daisy. Believe'\n",
      "b'ng!\\xe2\\x80\\x9d\\nDaisy smiled and nodded in'\n",
      "b\"use\\xe2\\x80\\x99s teeth weren't as tough as\"\n",
      "b't, \\xe2\\x80\\x9cLook what I made!\\xe2\\x80\\x9d\\nThe ot'\n",
      "b'de!\\xe2\\x80\\x9d\\nThe otter\\xe2\\x80\\x99s family came '\n",
      "b'ter\\xe2\\x80\\x99s family came over and were'\n",
      "b'd. \\xe2\\x80\\x9cThis is amazing,\\xe2\\x80\\x9d said th'\n",
      "b'ng,\\xe2\\x80\\x9d said the otter\\xe2\\x80\\x99s mom. \\xe2\\x80'\n",
      "b'ter\\xe2\\x80\\x99s mom. \\xe2\\x80\\x9cWhat do you plan '\n",
      "b'm. \\xe2\\x80\\x9cWhat do you plan to do with'\n",
      "b'it?\\xe2\\x80\\x9d\\n\\xe2\\x80\\x9cIt\\xe2\\x80\\x99s a surprise,\\xe2\\x80\\x9d t'\n",
      "b'\\x80\\x9d\\n\\xe2\\x80\\x9cIt\\xe2\\x80\\x99s a surprise,\\xe2\\x80\\x9d the o'\n",
      "b'\\x9cIt\\xe2\\x80\\x99s a surprise,\\xe2\\x80\\x9d the otter '\n",
      "b'se,\\xe2\\x80\\x9d the otter said with a gigg'\n",
      "b'e. \\xe2\\x80\\x9cLet\\xe2\\x80\\x99s wait and see.\\xe2\\x80\\x9d\\nTh'\n",
      "b'Let\\xe2\\x80\\x99s wait and see.\\xe2\\x80\\x9d\\nThe fami'\n",
      "b'ee.\\xe2\\x80\\x9d\\nThe family waited and watc'\n",
      "b't.\\n\\xe2\\x80\\x9cThis is wonderful,\\xe2\\x80\\x9d said '\n",
      "b'ul,\\xe2\\x80\\x9d said the otter\\xe2\\x80\\x99s mom. \\xe2\\x80'\n",
      "b'ter\\xe2\\x80\\x99s mom. \\xe2\\x80\\x9cHow did you plan '\n",
      "b'm. \\xe2\\x80\\x9cHow did you plan all of thi'\n",
      "b'is?\\xe2\\x80\\x9d\\n\\xe2\\x80\\x9cI just wanted to share '\n",
      "b'\\x80\\x9d\\n\\xe2\\x80\\x9cI just wanted to share some'\n",
      "b'ly,\\xe2\\x80\\x9d the otter said with a happ'\n",
      "b'd, \\xe2\\x80\\x9cI have the most beautiful, '\n",
      "b'ky.\\xe2\\x80\\x9d\\nTom was amazed! He asked t'\n",
      "b'e, \\xe2\\x80\\x9cWho are you?\\xe2\\x80\\x9d\\nThe voice a'\n",
      "b'ou?\\xe2\\x80\\x9d\\nThe voice answered, \\xe2\\x80\\x9cI a'\n",
      "b'd, \\xe2\\x80\\x9cI am the mailman and I am f'\n",
      "b'ck.\\xe2\\x80\\x9d\\nTom was so excited. He tha'\n",
      "b'd, \\xe2\\x80\\x9cWhat are you doing?\\xe2\\x80\\x9d\\nThe '\n",
      "b'ng?\\xe2\\x80\\x9d\\nThe little girl smiled and'\n",
      "b'd, \\xe2\\x80\\x9cI am giving the bird some f'\n",
      "b'elp\\xe2\\x80\\x9d.\\nThe compassionate person '\n",
      "b'd, \\xe2\\x80\\x9cThat is very kind of you. L'\n",
      "b'er.\\xe2\\x80\\x9d\\nSo they both clapped their'\n",
      "b\"d, \\xe2\\x80\\x9cLet's do something kind for\"\n",
      "b'too\\xe2\\x80\\x9d.\\nThe little girl was so ha'\n",
      "b\"d, \\xe2\\x80\\x9cYes, let's do something kin\"\n",
      "b'ne!\\xe2\\x80\\x9d.\\nThe compassionate person '\n",
      "b\"d, \\xe2\\x80\\x9cThat's a great idea. Let's \"\n",
      "b'ow!\\xe2\\x80\\x9d.\\nFrom that day on, the com'\n",
      "b'es \\xe2\\x80\\x93 but to make sure he was ca'\n",
      "b'd, \\xe2\\x80\\x9cThese toys look like they n'\n",
      "b'em?\\xe2\\x80\\x9d Jessica said yes and ran o'\n",
      "b'd.\\n\\xe2\\x80\\x9cOh Sandy,\\xe2\\x80\\x9d Mom said. \\xe2\\x80\\x9cT'\n",
      "b'dy,\\xe2\\x80\\x9d Mom said. \\xe2\\x80\\x9cThis jar belo'\n",
      "b'd. \\xe2\\x80\\x9cThis jar belonged to your G'\n",
      "b'st.\\xe2\\x80\\x9d\\nSandy felt very sorry and '\n",
      "b'om?\\xe2\\x80\\x9d asked Sandy. Mom smiled an'\n",
      "b'id \\xe2\\x80\\x9cOf course I will forgive yo'\n",
      "b'it.\\xe2\\x80\\x9d\\nSo Sandy and Mom hugged an'\n",
      "b'gon\\xe2\\x80\\x99s cave and started to whist'\n",
      "b'gon\\xe2\\x80\\x99s turn, he whistled the mos'\n",
      "b'n, \\xe2\\x80\\x9cMy whistling is better than'\n",
      "b'rs!\\xe2\\x80\\x9d The dragon smiled and said'\n",
      "b'd, \\xe2\\x80\\x9cI don\\xe2\\x80\\x99t need to be the be'\n",
      "b'don\\xe2\\x80\\x99t need to be the best. Let\\xe2'\n",
      "b'Let\\xe2\\x80\\x99s have fun and enjoy the mu'\n",
      "b'ic.\\xe2\\x80\\x9d\\nThe moral of the story is:'\n",
      "b'sty\\xe2\\x80\\x99s mom saw her and said, \\xe2\\x80\\x9c'\n",
      "b'd, \\xe2\\x80\\x9cDon\\xe2\\x80\\x99t worry, Kirsty. I\\xe2\\x80\\x99'\n",
      "b'Don\\xe2\\x80\\x99t worry, Kirsty. I\\xe2\\x80\\x99ll fin'\n",
      "b'. I\\xe2\\x80\\x99ll find a way for you to ge'\n",
      "b'it.\\xe2\\x80\\x9d \\nKirsty smiled and was hap'\n",
      "b'idn\\xe2\\x80\\x99t want to wait for anyone. '\n",
      "b'ith\\xe2\\x80\\x99s face was full of worry. S'\n",
      "b'ad \\xe2\\x80\\x94 even at her young age.\\n<|e'\n",
      "b'man\\xe2\\x80\\x99s advice. He carefully clim'\n",
      "b'k. \\xe2\\x80\\x9cI want to grab it!\\xe2\\x80\\x9d he sh'\n",
      "b'it!\\xe2\\x80\\x9d he shouted to his Mom. \\nTo'\n",
      "b'mmy\\xe2\\x80\\x99s Mom squatted down and loo'\n",
      "b's. \\xe2\\x80\\x9cNo, Tommy,\\xe2\\x80\\x9d she said. \\xe2\\x80\\x9c'\n",
      "b'my,\\xe2\\x80\\x9d she said. \\xe2\\x80\\x9cIt\\xe2\\x80\\x99s not fo'\n",
      "b'd. \\xe2\\x80\\x9cIt\\xe2\\x80\\x99s not for us, it belon'\n",
      "b'\\x9cIt\\xe2\\x80\\x99s not for us, it belongs to'\n",
      "b're.\\xe2\\x80\\x9d \\nBut Tommy didn\\xe2\\x80\\x99t want t'\n",
      "b'idn\\xe2\\x80\\x99t want to listen. He ran fo'\n",
      "b'g. \\xe2\\x80\\x9cOh no,\\xe2\\x80\\x9d said Tommy\\xe2\\x80\\x99s Mo'\n",
      "b'no,\\xe2\\x80\\x9d said Tommy\\xe2\\x80\\x99s Mom. \\nThe s'\n",
      "b'mmy\\xe2\\x80\\x99s Mom. \\nThe store security '\n",
      "b'y. \\xe2\\x80\\x9cYou can\\xe2\\x80\\x99t steal from the '\n",
      "b'can\\xe2\\x80\\x99t steal from the store!\\xe2\\x80\\x9d '\n",
      "b're!\\xe2\\x80\\x9d he said sternly. \\nTommy wa'\n",
      "b'idn\\xe2\\x80\\x99t mean to do anything wrong'\n",
      "b'ldn\\xe2\\x80\\x99t have the lovely steel car'\n",
      "b'mmy\\xe2\\x80\\x99s Mom was filled with sadne'\n",
      "b\"m, \\xe2\\x80\\x9cLet's share a puzzle.\\xe2\\x80\\x9d\\nSa\"\n",
      "b'le.\\xe2\\x80\\x9d\\nSam smiled and opened the '\n",
      "b\"d, \\xe2\\x80\\x9cLook Dad, I put the dog's n\"\n",
      "b\"se.\\xe2\\x80\\x9d \\nDad said, \\xe2\\x80\\x9cThat's great\"\n",
      "b\"d, \\xe2\\x80\\x9cThat's great Sam. Now help \"\n",
      "b'il.\\xe2\\x80\\x9d \\nTogether they shared thei'\n",
      "b'Mia\\xe2\\x80\\x99s parents agreed and Mia go'\n",
      "b'idn\\xe2\\x80\\x99t get a chance to explain.\\n'\n",
      "b'id \\xe2\\x80\\x9cno\\xe2\\x80\\x9d and Jane had no choic'\n",
      "b'\\x9cno\\xe2\\x80\\x9d and Jane had no choice but'\n",
      "b'f, \\xe2\\x80\\x9cNow I must find a palace to'\n",
      "b'ls.\\xe2\\x80\\x9d He created a beautiful pal'\n",
      "b'n, \\xe2\\x80\\x9cWear your kingly crown and '\n",
      "b'let\\xe2\\x80\\x99s go on an adventure!\\xe2\\x80\\x9d Hi'\n",
      "b're!\\xe2\\x80\\x9d His passport was clutched '\n",
      "b'n, \\xe2\\x80\\x9cLet\\xe2\\x80\\x99s go explore the worl'\n",
      "b'Let\\xe2\\x80\\x99s go explore the world!\\xe2\\x80\\x9d '\n",
      "b'ld!\\xe2\\x80\\x9d and he set off on his imag'\n",
      "b'y! \\xe2\\x80\\x9cPlease don\\xe2\\x80\\x99t go,\\xe2\\x80\\x9d said '\n",
      "b'don\\xe2\\x80\\x99t go,\\xe2\\x80\\x9d said the voice. \\xe2\\x80'\n",
      "b'go,\\xe2\\x80\\x9d said the voice. \\xe2\\x80\\x9cMy name'\n",
      "b'e. \\xe2\\x80\\x9cMy name is Susan and I\\xe2\\x80\\x99m '\n",
      "b'd I\\xe2\\x80\\x99m just a little mouse. I he'\n",
      "b'it.\\xe2\\x80\\x9d\\nBill was super excited, he'\n",
      "b't, \\xe2\\x80\\x9cYippee!\\xe2\\x80\\x9d Inside the chest'\n",
      "b'ee!\\xe2\\x80\\x9d Inside the chest was a hug'\n",
      "b'd, \\xe2\\x80\\x9cAre you sure you should tak'\n",
      "b're?\\xe2\\x80\\x9d\\nMandy just smiled and said'\n",
      "b'd, \\xe2\\x80\\x9cCome on! Let\\xe2\\x80\\x99s take it ho'\n",
      "b'Let\\xe2\\x80\\x99s take it home!\\xe2\\x80\\x9d\\nSo Todd '\n",
      "b'me!\\xe2\\x80\\x9d\\nSo Todd agreed, and they b'\n",
      "b\"ng.\\xe2\\x80\\x9d\\nBut Mandy knew that wasn't\"\n",
      "b'd, \\xe2\\x80\\x9cWhy don\\xe2\\x80\\x99t we stand on it?'\n",
      "b'don\\xe2\\x80\\x99t we stand on it? We might '\n",
      "b'en.\\xe2\\x80\\x9d Joe thought it was a brill'\n",
      "b'ck \\xe2\\x80\\x93 the lid of the box had ope'\n",
      "b'd, \\xe2\\x80\\x9cHello, you two birds! I\\xe2\\x80\\x99m'\n",
      "b'! I\\xe2\\x80\\x99m the box guardian. Now, I '\n",
      "b'sh!\\xe2\\x80\\x9d Then, Joe and Abby flew of'\n",
      "b'e.\\n\\xe2\\x80\\x9cOh wow!\\xe2\\x80\\x9d said Billy admir'\n",
      "b'ow!\\xe2\\x80\\x9d said Billy admiringly. He '\n",
      "b'd, \\xe2\\x80\\x9cOuch!\\xe2\\x80\\x9d with surprise. He '\n",
      "b'ch!\\xe2\\x80\\x9d with surprise. He felt the'\n",
      "b'd, \\xe2\\x80\\x9cJoe, I am so happy. I think'\n",
      "b'dy!\\xe2\\x80\\x9d Joe was very excited and a'\n",
      "b'd, \\xe2\\x80\\x9cHow did you do it?\\xe2\\x80\\x9d\\nHis d'\n",
      "b'it?\\xe2\\x80\\x9d\\nHis dad replied, \\xe2\\x80\\x9cI work'\n",
      "b'd, \\xe2\\x80\\x9cI worked hard and now we ca'\n",
      "b'in.\\xe2\\x80\\x9d\\nThe next day Joe went to e'\n",
      "b'd, \\xe2\\x80\\x9cDad, why is the kitchen not'\n",
      "b'dy?\\xe2\\x80\\x9d\\nHis dad smiled and said, \\xe2'\n",
      "b\"d, \\xe2\\x80\\x9cI'm not done yet, Joe. You'\"\n",
      "b'xt.\\xe2\\x80\\x9d Joe began to get curious a'\n",
      "b'd, \\xe2\\x80\\x9cWow! It looks so nice! You '\n",
      "b'ad!\\xe2\\x80\\x9d\\nHis dad smiled and replied'\n",
      "b\"d, \\xe2\\x80\\x9cI'm glad you like it, Joe. \"\n",
      "b'd, \\xe2\\x80\\x9cJenny, if you eat all your '\n",
      "b'ou.\\xe2\\x80\\x9d Jenny was so excited and s'\n",
      "b'd, \\xe2\\x80\\x9cYou can use the computer no'\n",
      "b'ow!\\xe2\\x80\\x9d She had never seen such an'\n",
      "b'd, \\xe2\\x80\\x9cMommy, can I have that appl'\n",
      "b'se?\\xe2\\x80\\x9d\\nHis mom smiled and said, \\xe2'\n",
      "b'd, \\xe2\\x80\\x9cSure, sweetie. You can have'\n",
      "b'le!\\xe2\\x80\\x9d\\nSam picked up the apple an'\n",
      "b'd, \\xe2\\x80\\x9cIt sounds like that apple w'\n",
      "b' It\\xe2\\x80\\x99s not very safe.\\xe2\\x80\\x9d\\nSam nod'\n",
      "b'fe.\\xe2\\x80\\x9d\\nSam nodded in agreement. H'\n",
      "b\"d, \\xe2\\x80\\x9cWhy don't you have your pan\"\n",
      "b'on?\\xe2\\x80\\x9d \\nTimmy was embarrassed, bu'\n",
      "b\"d, \\xe2\\x80\\x9cI think it's more fun to en\"\n",
      "b'ts.\\xe2\\x80\\x9d \\nLucy smiled and said, \\xe2\\x80\\x9c'\n",
      "b\"d, \\xe2\\x80\\x9cYou're right! Let's enjoy t\"\n",
      "b'er!\\xe2\\x80\\x9d \\nSo Timmy and Lucy took of'\n",
      "b'd, \\xe2\\x80\\x9cWe are sharing this avocado'\n",
      "b'me!\\xe2\\x80\\x9d. The mouse was so excited '\n",
      "b\"r.\\n\\xe2\\x80\\x9cWhy don't you choose to pla\"\n",
      "b'te?\\xe2\\x80\\x9d he said.\\nMolly thought abo'\n",
      "b'r, \\xe2\\x80\\x9cThis looks dangerous. Maybe'\n",
      "b'er.\\xe2\\x80\\x9d \\nBut the father replied, \\xe2'\n",
      "b'd, \\xe2\\x80\\x9cNo, it\\xe2\\x80\\x99s okay. We can kee'\n",
      "b' it\\xe2\\x80\\x99s okay. We can keep an eye '\n",
      "b'em.\\xe2\\x80\\x9d \\nSo the family went on the'\n",
      "b'you\\xe2\\x80\\x9d said the man who had caugh'\n",
      "b'd, \\xe2\\x80\\x9cSprinkle this fairy dust on'\n",
      "b'in.\\xe2\\x80\\x9d\\nSo, Daisy sprinkled the fa'\n",
      "b'd: \\xe2\\x80\\x9cPlease don\\xe2\\x80\\x99t hurt me!\\xe2\\x80\\x9d '\n",
      "b'don\\xe2\\x80\\x99t hurt me!\\xe2\\x80\\x9d  \\nThe bigger '\n",
      "b'me!\\xe2\\x80\\x9d  \\nThe bigger rabbit though'\n",
      "b'd: \\xe2\\x80\\x9cLet\\xe2\\x80\\x99s share the wheat ins'\n",
      "b'Let\\xe2\\x80\\x99s share the wheat instead. '\n",
      "b'py.\\xe2\\x80\\x9d\\nSo, the two rabbits agreed'\n",
      "b' it\\xe2\\x80\\x99s important to share and ge'\n",
      "b'hat\\xe2\\x80\\x99s this?\\xe2\\x80\\x9d she asked, notic'\n",
      "b'is?\\xe2\\x80\\x9d she asked, noticing the gu'\n",
      "b'ohn\\xe2\\x80\\x99s hands.\\n\\xe2\\x80\\x9cIt\\xe2\\x80\\x99s a surpri'\n",
      "b's.\\n\\xe2\\x80\\x9cIt\\xe2\\x80\\x99s a surprise!\\xe2\\x80\\x9d said '\n",
      "b'\\x9cIt\\xe2\\x80\\x99s a surprise!\\xe2\\x80\\x9d said John '\n",
      "b'se!\\xe2\\x80\\x9d said John with a smile. He'\n",
      "b'ary\\xe2\\x80\\x99s house and noticed all the'\n",
      "b'd, \\xe2\\x80\\x9cI had no idea you were so k'\n",
      "b'ou.\\xe2\\x80\\x9d\\nJohn responded, \\xe2\\x80\\x9cIt was '\n",
      "b'd, \\xe2\\x80\\x9cIt was the least I could do'\n",
      "b'er.\\xe2\\x80\\x9d\\n<|endoftext|>\\nOne day, a r'\n",
      "b'ldn\\xe2\\x80\\x99t have been safe for you to'\n",
      "b'ns.\\xe2\\x80\\x9d\\nMoral of the story: Always'\n",
      "b' it\\xe2\\x80\\x99s so bright! Let\\xe2\\x80\\x99s go and'\n",
      "b'Let\\xe2\\x80\\x99s go and have fun,\" Mom sai'\n",
      "b'\"It\\xe2\\x80\\x99s time for us to go home,\" '\n",
      "b'e.\\n\\xe2\\x80\\x9cWhy are you crying?\\xe2\\x80\\x9d said'\n",
      "b'ng?\\xe2\\x80\\x9d said the rabbit. \\nThe bear'\n",
      "b'id \\xe2\\x80\\x9cI am scared of the rain - I'\n",
      "b'it.\\xe2\\x80\\x9d\\nThe rabbit smiled and said'\n",
      "b\"id \\xe2\\x80\\x9cIt is okay, it's only water\"\n",
      "b'ol.\\xe2\\x80\\x9d\\nThe bear felt much better '\n",
      "b'd, \\xe2\\x80\\x9cLook, Daddy! I found a fine'\n",
      "b'rk!\\xe2\\x80\\x9d \\nHer daddy smiled down at '\n",
      "b'd, \\xe2\\x80\\x9cThat is so wonderful, Jane!'\n",
      "b'ou!\\xe2\\x80\\x9d \\nJane was so happy. She hu'\n",
      "b'd, \\xe2\\x80\\x9cI\\xe2\\x80\\x99m going to sell my pock'\n",
      "b'\\x80\\x9cI\\xe2\\x80\\x99m going to sell my pocket m'\n",
      "b'nd!\\xe2\\x80\\x9d\\nPaul ran to the store and '\n",
      "b'e.\\n\\xe2\\x80\\x9cOh, no!\\xe2\\x80\\x9d her dad said. \\xe2\\x80'\n",
      "b'no!\\xe2\\x80\\x9d her dad said. \\xe2\\x80\\x9cWe need t'\n",
      "b'd. \\xe2\\x80\\x9cWe need to remove the bag, '\n",
      "b'ie.\\xe2\\x80\\x9d\\nSo, dad and Jessie careful'\n",
      "b'sie\\xe2\\x80\\x99s arm. Tears rolled down he'\n",
      "b'sie\\xe2\\x80\\x99s arm was badly hurt and sh'\n",
      "b'me.\\xe2\\x80\\x9d The bear agreed and left t'\n",
      "b'id \\xe2\\x80\\x9cHello slug! What are you do'\n",
      "b'ne?\\xe2\\x80\\x9d \\nThe slug replied \\xe2\\x80\\x9cI was'\n",
      "b'ed \\xe2\\x80\\x9cI was looking for a tasty s'\n",
      "b'od.\\xe2\\x80\\x9d \\nSuddenly, Amy felt sad. S'\n",
      "b'ed \\xe2\\x80\\x9cBut why are you here alone?'\n",
      "b'Don\\xe2\\x80\\x99t you have a family?\\xe2\\x80\\x9d\\nThe'\n",
      "b'ly?\\xe2\\x80\\x9d\\nThe slug was sad too. \\xe2\\x80\\x9cN'\n",
      "b'o. \\xe2\\x80\\x9cNo. I do not have a family.'\n",
      "b'me.\\xe2\\x80\\x9d\\nAmy was very sad to hear t'\n",
      "b'id \\xe2\\x80\\x9cDon\\xe2\\x80\\x99t worry, I will help '\n",
      "b'Don\\xe2\\x80\\x99t worry, I will help you fi'\n",
      "b'fe.\\xe2\\x80\\x9d \\nThe slug smiled and said '\n",
      "b'id \\xe2\\x80\\x9cThank you Amy. I am so happ'\n",
      "b'me.\\xe2\\x80\\x9d \\nAnd from that day onwards'\n",
      "b'. \\n\\xe2\\x80\\x9cYes, of course, but you hav'\n",
      "b'te!\\xe2\\x80\\x9d her Mom said.\\nSo Katie wen'\n",
      "b'e. \\xe2\\x80\\x9cWow!\\xe2\\x80\\x9d Katie said when she'\n",
      "b'ow!\\xe2\\x80\\x9d Katie said when she was fi'\n",
      "b'. \\n\\xe2\\x80\\x9cYou did a very good job!\\xe2\\x80\\x9d'\n",
      "b'ob!\\xe2\\x80\\x9d she said. \\nKatie smiled an'\n",
      "b'd, \\xe2\\x80\\x9cThank you for giving me a s'\n",
      "b'er!\\xe2\\x80\\x9d \\nThe orange tree waved its'\n",
      "b'd, \\xe2\\x80\\x9cYou\\xe2\\x80\\x99re welcome! I\\xe2\\x80\\x99m hap'\n",
      "b'You\\xe2\\x80\\x99re welcome! I\\xe2\\x80\\x99m happy to '\n",
      "b'! I\\xe2\\x80\\x99m happy to give you somethi'\n",
      "b'ed.\\xe2\\x80\\x9d\\nThe birds and the orange t'\n",
      "b'r! \\xe2\\x80\\x9cOh, I thought it was someth'\n",
      "b'ad,\\xe2\\x80\\x9d said Molly.\\nMolly chuckled'\n",
      "b'ig \\xe2\\x80\\x9cThank you!\\xe2\\x80\\x9d to her teddy '\n",
      "b'ou!\\xe2\\x80\\x9d to her teddy bear. After t'\n",
      "b'll \\xe2\\x80\\x93 it was poison! Jane was so'\n",
      "b'd, \\xe2\\x80\\x9cDon\\xe2\\x80\\x99t worry Jane. You wer'\n",
      "b'Don\\xe2\\x80\\x99t worry Jane. You were just'\n",
      "b'st.\\xe2\\x80\\x9d Jane and her brother ran a'\n",
      "b'r, \\xe2\\x80\\x9cWhat\\xe2\\x80\\x99s wrong, Amy?\\xe2\\x80\\x9d.\\n\\xe2\\x80'\n",
      "b'hat\\xe2\\x80\\x99s wrong, Amy?\\xe2\\x80\\x9d.\\n\\xe2\\x80\\x9cI don\\xe2'\n",
      "b'my?\\xe2\\x80\\x9d.\\n\\xe2\\x80\\x9cI don\\xe2\\x80\\x99t know if I ca'\n",
      "b'\\x9d.\\n\\xe2\\x80\\x9cI don\\xe2\\x80\\x99t know if I can go '\n",
      "b'don\\xe2\\x80\\x99t know if I can go up the s'\n",
      "b'ig!\\xe2\\x80\\x9d replied Amy.\\nHer dad smile'\n",
      "b'd, \\xe2\\x80\\x9cNo problem. We\\xe2\\x80\\x99ll go up t'\n",
      "b' We\\xe2\\x80\\x99ll go up together, one step'\n",
      "b'. I\\xe2\\x80\\x99ll help you.\\xe2\\x80\\x9d \\nWith her d'\n",
      "b'ou.\\xe2\\x80\\x9d \\nWith her dad\\xe2\\x80\\x99s help, Am'\n",
      "b'dad\\xe2\\x80\\x99s help, Amy was able to go '\n",
      "b'd, \\xe2\\x80\\x9cThank you, Dad!\\xe2\\x80\\x9d\\n<|endoft'\n",
      "b'ad!\\xe2\\x80\\x9d\\n<|endoftext|>\\n\\nOnce upon a'\n",
      "b'd, \\xe2\\x80\\x9cIt feels like something bad'\n",
      "b'pen\\xe2\\x80\\xa6\\xe2\\x80\\x9d\\nThe other friend replie'\n",
      "b'\\xe2\\x80\\xa6\\xe2\\x80\\x9d\\nThe other friend replied, '\n",
      "b\"d, \\xe2\\x80\\x9cThat isn't true. Maybe it w\"\n",
      "b'on.\\xe2\\x80\\x9d\\nSuddenly, the ground start'\n",
      "b'd, \\xe2\\x80\\x9cJust like the sky turns sun'\n",
      "b'on.\\xe2\\x80\\x9d \\nThe moral of the story is'\n",
      "b'd, \\xe2\\x80\\x9cStir the stew, Baby Bear. M'\n",
      "b' it\\xe2\\x80\\x99s nice and smooth.\\xe2\\x80\\x9d\\nBaby '\n",
      "b'th.\\xe2\\x80\\x9d\\nBaby Bear was stirring the'\n",
      "b't, \\xe2\\x80\\x9cWhy do I have to do this? I'\n",
      "b' It\\xe2\\x80\\x99s so uncomfortable.\\xe2\\x80\\x9d He w'\n",
      "b'le.\\xe2\\x80\\x9d He was so focused on stirr'\n",
      "b'idn\\xe2\\x80\\x99t realize that the stew was'\n",
      "b'd, \\xe2\\x80\\x9cBaby Bear, it looks like th'\n",
      "b'Don\\xe2\\x80\\x99t stir so hard, the heat is'\n",
      "b'ng.\\xe2\\x80\\x9d\\nBaby Bear listened to Mama'\n",
      "b'd, \\xe2\\x80\\x9cSee, Baby Bear? Sometimes i'\n",
      "b' it\\xe2\\x80\\x99s best to be patient and ge'\n",
      "b'le.\\xe2\\x80\\x9d \\nAnd from that day on, Bab'\n",
      "b'r, \\xe2\\x80\\x9cLet\\xe2\\x80\\x99s go!\\xe2\\x80\\x9d\\nThe tiger th'\n",
      "b'Let\\xe2\\x80\\x99s go!\\xe2\\x80\\x9d\\nThe tiger thought '\n",
      "b'go!\\xe2\\x80\\x9d\\nThe tiger thought the bear'\n",
      "b'd, \\xe2\\x80\\x9cWhy are you scared? What is'\n",
      "b'it?\\xe2\\x80\\x9d\\nThe bear replied, \\xe2\\x80\\x9cI gue'\n",
      "b'd, \\xe2\\x80\\x9cI guess it\\xe2\\x80\\x99s a missile.\\xe2\\x80'\n",
      "b' it\\xe2\\x80\\x99s a missile.\\xe2\\x80\\x9d\\nThe tiger s'\n",
      "b'le.\\xe2\\x80\\x9d\\nThe tiger said, \\xe2\\x80\\x9cDon\\xe2\\x80\\x99t'\n",
      "b'd, \\xe2\\x80\\x9cDon\\xe2\\x80\\x99t be scared, my frien'\n",
      "b'Don\\xe2\\x80\\x99t be scared, my friend. We '\n",
      "b'don\\xe2\\x80\\x99t want to hurt anyone with '\n",
      "b'le.\\xe2\\x80\\x9d\\nThe bear nodded and said, '\n",
      "b'd, \\xe2\\x80\\x9cYou\\xe2\\x80\\x99re right. We should a'\n",
      "b'You\\xe2\\x80\\x99re right. We should always '\n",
      "b'ns.\\xe2\\x80\\x9d\\nThe moral of this story is'\n",
      "b'don\\xe2\\x80\\x99t want to hurt anyone or an'\n",
      "b'irl\\xe2\\x80\\x99s parents continued to play'\n",
      "b'd, \\xe2\\x80\\x9cHello!\\xe2\\x80\\x9d The duck turned a'\n",
      "b'lo!\\xe2\\x80\\x9d The duck turned and saw a '\n",
      "b'd, \\xe2\\x80\\x9cWho are you?\\xe2\\x80\\x9d\\nThe little '\n",
      "b'ou?\\xe2\\x80\\x9d\\nThe little duckling answer'\n",
      "b'd, \\xe2\\x80\\x9cI\\xe2\\x80\\x99m a baby duck. What\\xe2\\x80\\x99s'\n",
      "b'\\x80\\x9cI\\xe2\\x80\\x99m a baby duck. What\\xe2\\x80\\x99s you'\n",
      "b'hat\\xe2\\x80\\x99s your name?\\xe2\\x80\\x9d\\nThe yellow '\n",
      "b'me?\\xe2\\x80\\x9d\\nThe yellow duck smiled and'\n",
      "b'd, \\xe2\\x80\\x9cMy name is Barney. What\\xe2\\x80\\x99s'\n",
      "b'hat\\xe2\\x80\\x99s yours?\\xe2\\x80\\x9d\\nThe duckling sm'\n",
      "b'rs?\\xe2\\x80\\x9d\\nThe duckling smiled and sa'\n",
      "b'd, \\xe2\\x80\\x9cI\\xe2\\x80\\x99m Mary. Can I join you '\n",
      "b'\\x80\\x9cI\\xe2\\x80\\x99m Mary. Can I join you for '\n",
      "b'im?\\xe2\\x80\\x9d\\nBarney nodded and said, \\xe2\\x80'\n",
      "b'd, \\xe2\\x80\\x9cOf course you can. Together'\n",
      "b' we\\xe2\\x80\\x99ll go all the way around th'\n",
      "b'nd.\\xe2\\x80\\x9d\\nThe two ducks swam togethe'\n",
      "b'd, \\xe2\\x80\\x9cLet\\xe2\\x80\\x99s wear it! It will be'\n",
      "b'Let\\xe2\\x80\\x99s wear it! It will be fun.\\xe2'\n",
      "b'un.\\xe2\\x80\\x9d\\nSo, they put the apron on '\n",
      "b'd, \\xe2\\x80\\x9cLet\\xe2\\x80\\x99s try putting it back'\n",
      "b'Let\\xe2\\x80\\x99s try putting it back toget'\n",
      "b'it!\\xe2\\x80\\x9d\\nSo Tara and Samantha taped'\n",
      "b's.\\n\\xe2\\x80\\x9cWhat can I do with this?\\xe2\\x80\\x9d'\n",
      "b'is?\\xe2\\x80\\x9d asked Lucy.\\n\\xe2\\x80\\x9cYou can fol'\n",
      "b'y.\\n\\xe2\\x80\\x9cYou can fold it\\xe2\\x80\\x9d replied '\n",
      "b' it\\xe2\\x80\\x9d replied her mum.\\nLucy took'\n",
      "b'n.\\n\\xe2\\x80\\x9cLook, I can make it smaller'\n",
      "b'er,\\xe2\\x80\\x9d Lucy said proudly.\\n\\xe2\\x80\\x9cThat'\n",
      "b'y.\\n\\xe2\\x80\\x9cThat\\xe2\\x80\\x99s great. You are so '\n",
      "b'hat\\xe2\\x80\\x99s great. You are so clever\\xe2'\n",
      "b'ver\\xe2\\x80\\x9d said her mum, and hugged h'\n",
      "b'e, \\xe2\\x80\\x9cCome closer.\\xe2\\x80\\x9d \\nThe childr'\n",
      "b'er.\\xe2\\x80\\x9d \\nThe children were scared,'\n",
      "b'ice\\xe2\\x80\\x99s command. Before they knew'\n",
      "b'. \\n\\xe2\\x80\\x9cWelcome, children,\" the voi'\n",
      "b'ldn\\xe2\\x80\\x99t believe it. They had been'\n",
      "b't. \\xe2\\x80\\x9cNow,\\xe2\\x80\\x9d she said. \\xe2\\x80\\x9cYou ch'\n",
      "b'ow,\\xe2\\x80\\x9d she said. \\xe2\\x80\\x9cYou children '\n",
      "b'd. \\xe2\\x80\\x9cYou children will stay here'\n",
      "b'er.\\xe2\\x80\\x9d\\nThe children were very sca'\n",
      "b\"e!\\n\\xe2\\x80\\x9cIt's an animal's home!\\xe2\\x80\\x9d A\"\n",
      "b'me!\\xe2\\x80\\x9d Anna exclaimed. Anna and J'\n",
      "b'e, \\xe2\\x80\\x9cDon\\xe2\\x80\\x99t be scared, little o'\n",
      "b'Don\\xe2\\x80\\x99t be scared, little one. I\\xe2'\n",
      "b'. I\\xe2\\x80\\x99m not here to hurt you.\\xe2\\x80\\x9d\\n'\n",
      "b'ou.\\xe2\\x80\\x9d\\nLucy was relieved and step'\n",
      "b'd, \\xe2\\x80\\x9cThank you for being so gent'\n",
      "b'le.\\xe2\\x80\\x9d \\nThe giant smiled and aske'\n",
      "b'ldn\\xe2\\x80\\x99t believe her luck and eage'\n",
      "b'she\\xe2\\x80\\x99d done wrong. But she didn\\xe2'\n",
      "b'idn\\xe2\\x80\\x99t want to upset her mom, so'\n",
      "b'idn\\xe2\\x80\\x99t understand why her mom wa'\n",
      "b'd, \\xe2\\x80\\x9cI was yelling because I wan'\n",
      "b'hat\\xe2\\x80\\x99s all!\\xe2\\x80\\x9d The rich girl smi'\n",
      "b'll!\\xe2\\x80\\x9d The rich girl smiled, happ'\n",
      "b'asn\\xe2\\x80\\x99t mad at her. She put on a '\n",
      "b'd, \\xe2\\x80\\x9cIt\\xe2\\x80\\x99s a surprise!\\xe2\\x80\\x9d  She '\n",
      "b'\\x9cIt\\xe2\\x80\\x99s a surprise!\\xe2\\x80\\x9d  She opene'\n",
      "b'se!\\xe2\\x80\\x9d  She opened the envelope a'\n",
      "b'boy\\xe2\\x80\\x99s eyes lit up and he hugged'\n",
      "b'd, \\xe2\\x80\\x9cI think this teddy bear wil'\n",
      "b'er!\\xe2\\x80\\x9d \\nThe little boy smiled and'\n",
      "b'd, \\xe2\\x80\\x9cyou are very welcome!\\xe2\\x80\\x9d  F'\n",
      "b'me!\\xe2\\x80\\x9d  From that day on, the lit'\n",
      "b'idn\\xe2\\x80\\x99t know what else to do.\\nJim'\n",
      "b'y, \\xe2\\x80\\x9cCan I have a ride?\\xe2\\x80\\x9d The b'\n",
      "b'de?\\xe2\\x80\\x9d The butterfly stopped, and'\n",
      "b'fly\\xe2\\x80\\x99s back and she felt like sh'\n",
      "b'd, \\xe2\\x80\\x9cAmy, will you help me cut t'\n",
      "b'wn?\\xe2\\x80\\x9d\\nAmy was so excited. She ra'\n",
      "b'd, \\xe2\\x80\\x9cAmy, do not worry. I will h'\n",
      "b'ou.\\xe2\\x80\\x9d \\nAmy smiled. Mommy showed '\n",
      "b'.  \\xe2\\x80\\x9cGood job, Amy!\\xe2\\x80\\x9d said Momm'\n",
      "b'my!\\xe2\\x80\\x9d said Mommy. \\nThe End.\\n<|en'\n",
      "b'r, \\xe2\\x80\\x9cWhy don\\xe2\\x80\\x99t you want me to '\n",
      "b'don\\xe2\\x80\\x99t you want me to touch you?'\n",
      "b'ou?\\xe2\\x80\\x9d\\nThe three year old daughte'\n",
      "b'd, \\xe2\\x80\\x9cIt\\xe2\\x80\\x99s difficult. I don\\xe2\\x80\\x99t'\n",
      "b'\\x9cIt\\xe2\\x80\\x99s difficult. I don\\xe2\\x80\\x99t like'\n",
      "b'don\\xe2\\x80\\x99t like new things.\\xe2\\x80\\x9d Her f'\n",
      "b'gs.\\xe2\\x80\\x9d Her father listened carefu'\n",
      "b'd, \\xe2\\x80\\x9cThat\\xe2\\x80\\x99s alright. You don\\xe2\\x80'\n",
      "b'hat\\xe2\\x80\\x99s alright. You don\\xe2\\x80\\x99t have'\n",
      "b'don\\xe2\\x80\\x99t have to do it if it\\xe2\\x80\\x99s d'\n",
      "b' it\\xe2\\x80\\x99s difficult.\\xe2\\x80\\x9d\\nThe daughte'\n",
      "b'lt.\\xe2\\x80\\x9d\\nThe daughter felt better, '\n",
      "b'd, \\xe2\\x80\\x9cIf you are ever feeling sca'\n",
      "b'er.\\xe2\\x80\\x9d\\nThe daughter smiled. She k'\n",
      "b'her\\xe2\\x80\\x99s hand.\\n<|endoftext|>\\nOnce '\n",
      "b'd, \\xe2\\x80\\x9cThat is so cool - why are y'\n",
      "b'at?\\xe2\\x80\\x9d\\nThe ant stopped and smiled'\n",
      "b'd, \\xe2\\x80\\x9cI love to rot and spin arou'\n",
      "b' It\\xe2\\x80\\x99s the most fun I know!\\xe2\\x80\\x9d\\nT'\n",
      "b'ow!\\xe2\\x80\\x9d\\nThe little boy watched in '\n",
      "b'a, \\xe2\\x80\\x9cLet\\xe2\\x80\\x99s get the shiny thing'\n",
      "b'Let\\xe2\\x80\\x99s get the shiny thing!\\xe2\\x80\\x9d H'\n",
      "b'ng!\\xe2\\x80\\x9d He swam down to get it and'\n",
      "b'd, \\xe2\\x80\\x9cNo! We can\\xe2\\x80\\x99t! It might be'\n",
      "b'can\\xe2\\x80\\x99t! It might be very importa'\n",
      "b'don\\xe2\\x80\\x99t want to lose it.\\xe2\\x80\\x9d Max s'\n",
      "b'it.\\xe2\\x80\\x9d Max said, \\xe2\\x80\\x9cLet\\xe2\\x80\\x99s just '\n",
      "b'd, \\xe2\\x80\\x9cLet\\xe2\\x80\\x99s just save it for no'\n",
      "b'Let\\xe2\\x80\\x99s just save it for now and '\n",
      "b'ns.\\xe2\\x80\\x9d \\nSo, the two friends went '\n",
      "b' it\\xe2\\x80\\x99s important to save special'\n",
      "b'ed \\xe2\\x80\\x93 in the corner of the moder'\n",
      "b'd, \\xe2\\x80\\x9cDon\\xe2\\x80\\x99t worry Mama. We can '\n",
      "b'Don\\xe2\\x80\\x99t worry Mama. We can mow th'\n",
      "b'it!\\xe2\\x80\\x9d Mama and Papa were very pr'\n",
      "b'ldn\\xe2\\x80\\x99t believe it. \\nMoral of the'\n",
      "b'her\\xe2\\x80\\x99s most beautiful dress. She'\n",
      "b'asn\\xe2\\x80\\x99t supposed to touch her mot'\n",
      "b'her\\xe2\\x80\\x99s things without asking.\\nAn'\n",
      "b'nna\\xe2\\x80\\x99s mother soon walked into t'\n",
      "b'g. \\xe2\\x80\\x9cAnna, why aren\\xe2\\x80\\x99t you aski'\n",
      "b'ren\\xe2\\x80\\x99t you asking for permission'\n",
      "b'gs?\\xe2\\x80\\x9d she said sternly.\\nAnna loo'\n",
      "b'g.\\n\\xe2\\x80\\x9cIt is not fine to take some'\n",
      "b'isn\\xe2\\x80\\x99t yours without asking,\\xe2\\x80\\x9d '\n",
      "b'ng,\\xe2\\x80\\x9d said her mother. \\xe2\\x80\\x9cYou sh'\n",
      "b'r. \\xe2\\x80\\x9cYou should think carefully '\n",
      "b'don\\xe2\\x80\\x99t need to be afraid to ask '\n",
      "b'ay.\\xe2\\x80\\x9d\\nAnna nodded and gave a lit'\n",
      "b'idn\\xe2\\x80\\x99t understand why she was do'\n",
      "b'd: \\xe2\\x80\\x9cI am anxious too, but somet'\n",
      "b'ldn\\xe2\\x80\\x99t understand why his teache'\n",
      "b'd, \\xe2\\x80\\x9cThey are a special mix of s'\n",
      "b'em!\\xe2\\x80\\x9d \\nThe kids couldn\\xe2\\x80\\x99t wait '\n",
      "b'ldn\\xe2\\x80\\x99t wait to get their hands o'\n",
      "b'al \\xe2\\x80\\x93 and she was right!\\n<|endof'\n",
      "b'y, \\xe2\\x80\\x9cI wanna leave a mark.\\xe2\\x80\\x9d Li'\n",
      "b'rk.\\xe2\\x80\\x9d Lily agreed, so Mark took '\n",
      "b'd, \\xe2\\x80\\x9cOh no! What\\xe2\\x80\\x99s happening?\\xe2'\n",
      "b'hat\\xe2\\x80\\x99s happening?\\xe2\\x80\\x9d\\nThe rabbit '\n",
      "b'ng?\\xe2\\x80\\x9d\\nThe rabbit said to the cow'\n",
      "b'w, \\xe2\\x80\\x9cPlease help me! The fox wan'\n",
      "b'me.\\xe2\\x80\\x9d\\nThe cow thought and though'\n",
      "b't, \\xe2\\x80\\x9cClimb on my back and I\\xe2\\x80\\x99ll'\n",
      "b'd I\\xe2\\x80\\x99ll take you away.\\xe2\\x80\\x9d\\nSo the'\n",
      "b'ay.\\xe2\\x80\\x9d\\nSo the rabbit climbed onto'\n",
      "b'cow\\xe2\\x80\\x99s back, and the cow ran and'\n",
      "b'ldn\\xe2\\x80\\x99t catch them.\\nThe cow and t'\n",
      "b'd, \\xe2\\x80\\x9cWhew, that was close! Now l'\n",
      "b'let\\xe2\\x80\\x99s go and take a nap in the '\n",
      "b'ey.\\xe2\\x80\\x9d\\nSo the cow and the rabbit '\n",
      "b'y: \\xe2\\x80\\x9cMummy, what was that noise?'\n",
      "b'se?\\xe2\\x80\\x9d\\nMummy: \\xe2\\x80\\x9cShhh, be quiet a'\n",
      "b'y: \\xe2\\x80\\x9cShhh, be quiet and look.\\xe2\\x80\\x9d'\n",
      "b'ok.\\xe2\\x80\\x9d\\nBilly looked carefully and'\n",
      "b'y: \\xe2\\x80\\x9cThat kangaroo looks scared.'\n",
      "b'Let\\xe2\\x80\\x99s help it.\\xe2\\x80\\x9d\\nBilly and Mum'\n",
      "b'it.\\xe2\\x80\\x9d\\nBilly and Mummy slowly beg'\n",
      "b'y: \\xe2\\x80\\x9cWell done, Billy! You did a'\n",
      "b'ay.\\xe2\\x80\\x9d\\n<|endoftext|>\\nOnce upon a '\n",
      "b'one\\xe2\\x80\\x99s house. She wanted to play'\n",
      "b'd: \\xe2\\x80\\x9cThis is the secret wisdom s'\n",
      "b'Let\\xe2\\x80\\x99s settle down and see what '\n",
      "b'nd.\\xe2\\x80\\x9d\\nThe children were very exc'\n",
      "b'd: \\xe2\\x80\\x9cChildren, I am glad that yo'\n",
      "b'om.\\xe2\\x80\\x9d\\nAnd so they did. The famil'\n",
      "b'm, \\xe2\\x80\\x9cMom, can I touch the lizard'\n",
      "b'rd?\\xe2\\x80\\x9d Her mom said, \\xe2\\x80\\x9cNo, it\\xe2\\x80\\x99'\n",
      "b'd, \\xe2\\x80\\x9cNo, it\\xe2\\x80\\x99s not safe.\\xe2\\x80\\x9d The'\n",
      "b' it\\xe2\\x80\\x99s not safe.\\xe2\\x80\\x9d The girl was'\n",
      "b'fe.\\xe2\\x80\\x9d The girl was very sad. \\nTh'\n",
      "b't, \\xe2\\x80\\x9cOuch! I hurt my knee!\\xe2\\x80\\x9d\\nJu'\n",
      "b'ee!\\xe2\\x80\\x9d\\nJust then, he heard a voic'\n",
      "b'd, \\xe2\\x80\\x9cHello, little one! Don\\xe2\\x80\\x99t '\n",
      "b'Don\\xe2\\x80\\x99t worry, I can help. Let me'\n",
      "b'de.\\xe2\\x80\\x9d\\nJoshua smiled. He hopped o'\n",
      "b'owl\\xe2\\x80\\x99s back and they flew over t'\n",
      "b'ldn\\xe2\\x80\\x99t carry them all. So, it fo'\n",
      "b'ay \\xe2\\x80\\x93 never argue with someone w'\n",
      "b'r, \\xe2\\x80\\x9cI\\xe2\\x80\\x99m going to measure this'\n",
      "b'\\x80\\x9cI\\xe2\\x80\\x99m going to measure this bru'\n",
      "b'al.\\xe2\\x80\\x9d The park keeper replied, \\xe2'\n",
      "b'd, \\xe2\\x80\\x9cAh yes, that brush. It was '\n",
      "b'ck.\\xe2\\x80\\x9d\\nThe little girl measured t'\n",
      "b'd, \\xe2\\x80\\x9cHello there little one! Wha'\n",
      "b'hat\\xe2\\x80\\x99s your name?\\xe2\\x80\\x9d Sally smile'\n",
      "b'me?\\xe2\\x80\\x9d Sally smiled and told the '\n",
      "b'd, \\xe2\\x80\\x9cIt\\xe2\\x80\\x99s nice to meet you Sal'\n",
      "b'\\x9cIt\\xe2\\x80\\x99s nice to meet you Sally. I'\n",
      "b'g. \\xe2\\x80\\x9d\\nSally nodded. She hadn\\xe2\\x80\\x99t'\n",
      "b'adn\\xe2\\x80\\x99t been so scared anymore, n'\n",
      "b'ice\\xe2\\x80\\x99s words. She thanked the vo'\n",
      "b'y, \\xe2\\x80\\x9cLook! It\\xe2\\x80\\x99s a spoon!\\xe2\\x80\\x9d Hi'\n",
      "b' It\\xe2\\x80\\x99s a spoon!\\xe2\\x80\\x9d His mommy smi'\n",
      "b'on!\\xe2\\x80\\x9d His mommy smiled and calml'\n",
      "b'd, \\xe2\\x80\\x9cYes, it is a spoon. What a '\n",
      "b'nd!\\xe2\\x80\\x9d\\nJack ran over to the rock '\n",
      "b'asn\\xe2\\x80\\x99t scared. He was thrilled t'\n",
      "b'k. \\xe2\\x80\\x9cLet\\xe2\\x80\\x99s take it home with u'\n",
      "b'Let\\xe2\\x80\\x99s take it home with us!\\xe2\\x80\\x9d '\n",
      "b'us!\\xe2\\x80\\x9d She said.\\nGratefully, Jack'\n",
      "b'g.\\n\\xe2\\x80\\x9cWhat is that noise?\\xe2\\x80\\x9d aske'\n",
      "b'se?\\xe2\\x80\\x9d asked Max.\\nThe old lady sm'\n",
      "b'm, \\xe2\\x80\\x9cIt\\xe2\\x80\\x99s my bell. I am ringin'\n",
      "b'\\x9cIt\\xe2\\x80\\x99s my bell. I am ringing it '\n",
      "b'op.\\xe2\\x80\\x9d\\nMax and Jess decided to he'\n",
      "b' it\\xe2\\x80\\x99s important to be kind and '\n",
      "b'one\\xe2\\x80\\x99s day much brighter!\\n<|endo'\n",
      "b'd, \\xe2\\x80\\x9cWe\\xe2\\x80\\x99re having delicious ca'\n",
      "b'\\x9cWe\\xe2\\x80\\x99re having delicious caulifl'\n",
      "b'er.\\xe2\\x80\\x9d\\nLucy replied, \\xe2\\x80\\x9cWhat\\xe2\\x80\\x99s '\n",
      "b'd, \\xe2\\x80\\x9cWhat\\xe2\\x80\\x99s cauliflower?\\xe2\\x80\\x9d\\n \\n'\n",
      "b'hat\\xe2\\x80\\x99s cauliflower?\\xe2\\x80\\x9d\\n \\nHer mom'\n",
      "b'er?\\xe2\\x80\\x9d\\n \\nHer mom explained, \\xe2\\x80\\x9cCa'\n",
      "b'd, \\xe2\\x80\\x9cCauliflower is a delicious '\n",
      "b'ud.\\xe2\\x80\\x9d\\nLucy asked, \\xe2\\x80\\x9cCan I try i'\n",
      "b'd, \\xe2\\x80\\x9cCan I try it?\\xe2\\x80\\x9d\\nHer mom an'\n",
      "b'it?\\xe2\\x80\\x9d\\nHer mom answered, \\xe2\\x80\\x9cYes, '\n",
      "b'd, \\xe2\\x80\\x9cYes, of course you can!\\xe2\\x80\\x9d '\n",
      "b'an!\\xe2\\x80\\x9d \\nSo, Lucy tried it. She li'\n",
      "b'd, \\xe2\\x80\\x9cIt\\xe2\\x80\\x99s yummy! Can we have t'\n",
      "b'\\x9cIt\\xe2\\x80\\x99s yummy! Can we have this a'\n",
      "b'in?\\xe2\\x80\\x9d\\nHer mom answered, \\xe2\\x80\\x9cYes! '\n",
      "b'd, \\xe2\\x80\\x9cYes! This delicious caulifl'\n",
      "b'le!\\xe2\\x80\\x9d\\n<|endoftext|>\\nOnce upon a '\n",
      "b'm, \\xe2\\x80\\x9c Joey, can you slow down? I'\n",
      "b'st.\\xe2\\x80\\x9d \\nJoey replied, \\xe2\\x80\\x9cBut why,'\n",
      "b'd, \\xe2\\x80\\x9cBut why, Auntie Stacy? I li'\n",
      "b'st.\\xe2\\x80\\x9d\\nAuntie Stacy smiled and sa'\n",
      "b\"d, \\xe2\\x80\\x9cI know it's fun to run and \"\n",
      "b'fe.\\xe2\\x80\\x9d\\nJoey nodded and agreed, \\xe2\\x80'\n",
      "b'd, \\xe2\\x80\\x9cYes, that makes sense.\\xe2\\x80\\x9d\\nA'\n",
      "b'se.\\xe2\\x80\\x9d\\nAuntie Stacy went on, \\xe2\\x80\\x9cW'\n",
      "b\"n, \\xe2\\x80\\x9cWhen you walk too fast, it'\"\n",
      "b'le.\\xe2\\x80\\x9d\\nJoey was following the con'\n",
      "b\"d, \\xe2\\x80\\x9cI'll be careful and move sl\"\n",
      "b'fe.\\xe2\\x80\\x9d\\nAuntie Stacy was proud of '\n",
      "b\"d, \\xe2\\x80\\x9cThat's a great idea! Let's \"\n",
      "b'st.\\xe2\\x80\\x9d\\nJoey smiled and together t'\n",
      "b'd, \\xe2\\x80\\x9cI am a noisy mushroom.\\xe2\\x80\\x9d\\nE'\n",
      "b'om.\\xe2\\x80\\x9d\\nElla was very surprised. S'\n",
      "b'?\"\\n\\xe2\\x80\\x9cI was on my way to a big Mu'\n",
      "b'rn,\\xe2\\x80\\x9d the Mushroom replied.\\nElla'\n",
      "b'a, \\xe2\\x80\\x9cThank you for helping me fi'\n",
      "b'ty!\\xe2\\x80\\x9d\\nElla smiled and waved good'\n",
      "b'she\\xe2\\x80\\x99d never forget!\\n<|endoftext'\n",
      "cnt1= 1079\n",
      "cnt2= 1079\n",
      "cnt3= 1079\n"
     ]
    }
   ],
   "source": [
    "bytes_list = []\n",
    "with open(\"/home/jingqi/CS336_Assignments/assignment1-basics/tests/fixtures/tinystories_sample_5M.txt\", \"rb\") as f:\n",
    "    text = f.read()\n",
    "cnt1 = 0\n",
    "cnt2 = 0\n",
    "cnt3 = 0\n",
    "for i in range(len(text)):\n",
    "    if text[i:i+1] == b'\\xe2':\n",
    "        cnt1 += 1\n",
    "    if text[i:i+1] == b'\\x80':\n",
    "        cnt2 += 1\n",
    "    if i + 1 < len(text) and text[i:i+1] == b'\\xe2' and text[i+1: i+2] == b'\\x80':\n",
    "        cnt3 += 1\n",
    "        print(text[i-3:i+30])\n",
    "print(\"cnt1=\", cnt1)\n",
    "print(\"cnt2=\", cnt2)\n",
    "print(\"cnt3=\", cnt3)"
   ]
  },
  {
   "cell_type": "code",
   "execution_count": 181,
   "metadata": {},
   "outputs": [],
   "source": [
    "test_str= \"“ ” ’ ‘\""
   ]
  },
  {
   "cell_type": "code",
   "execution_count": 182,
   "metadata": {},
   "outputs": [
    {
     "name": "stdout",
     "output_type": "stream",
     "text": [
      "b'\\xe2\\x80\\x9c \\xe2\\x80\\x9d \\xe2\\x80\\x99 \\xe2\\x80\\x98'\n"
     ]
    }
   ],
   "source": [
    "print(test_str.encode(\"utf-8\"))"
   ]
  },
  {
   "cell_type": "code",
   "execution_count": 183,
   "metadata": {},
   "outputs": [],
   "source": [
    "pattern = r\"\"\"'(?:[sdmt]|ll|ve|re)| ?\\p{L}+| ?\\p{N}+| ?[^\\s\\p{L}\\p{N}]+|\\s+(?!\\S)|\\s+\"\"\""
   ]
  },
  {
   "cell_type": "code",
   "execution_count": 208,
   "metadata": {},
   "outputs": [],
   "source": [
    "test_str = \"Let’s look for some paint!”\""
   ]
  },
  {
   "cell_type": "code",
   "execution_count": 209,
   "metadata": {},
   "outputs": [],
   "source": [
    "matches = re.finditer(pattern, test_str)"
   ]
  },
  {
   "cell_type": "code",
   "execution_count": 210,
   "metadata": {},
   "outputs": [
    {
     "name": "stdout",
     "output_type": "stream",
     "text": [
      "(b'L', b'e', b't')\n",
      "(b'\\xe2', b'\\x80', b'\\x99')\n",
      "(b's',)\n",
      "(b' ', b'l', b'o', b'o', b'k')\n",
      "(b' ', b'f', b'o', b'r')\n",
      "(b' ', b's', b'o', b'm', b'e')\n",
      "(b' ', b'p', b'a', b'i', b'n', b't')\n",
      "(b'!', b'\\xe2', b'\\x80', b'\\x9d')\n"
     ]
    }
   ],
   "source": [
    "for match in matches:\n",
    "    pre_token = ()\n",
    "    token = match.group()\n",
    "    token = token.encode(\"utf-8\")\n",
    "    for i in range(len(token)):\n",
    "        pre_token = pre_token + (token[i:i+1], )\n",
    "    print(pre_token)"
   ]
  },
  {
   "cell_type": "code",
   "execution_count": null,
   "metadata": {},
   "outputs": [],
   "source": []
  }
 ],
 "metadata": {
  "kernelspec": {
   "display_name": "LLM_Train",
   "language": "python",
   "name": "python3"
  },
  "language_info": {
   "codemirror_mode": {
    "name": "ipython",
    "version": 3
   },
   "file_extension": ".py",
   "mimetype": "text/x-python",
   "name": "python",
   "nbconvert_exporter": "python",
   "pygments_lexer": "ipython3",
   "version": "3.12.9"
  }
 },
 "nbformat": 4,
 "nbformat_minor": 2
}
